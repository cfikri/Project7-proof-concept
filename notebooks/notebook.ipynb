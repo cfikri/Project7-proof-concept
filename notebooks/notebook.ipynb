{
 "cells": [
  {
   "cell_type": "markdown",
   "metadata": {},
   "source": [
    "# PREUVE DE CONCEPT\n",
    "\n",
    "## 1. Préparation des données"
   ]
  },
  {
   "cell_type": "code",
   "execution_count": 1,
   "metadata": {},
   "outputs": [
    {
     "name": "stderr",
     "output_type": "stream",
     "text": [
      "2024-08-20 21:18:48.659418: E external/local_xla/xla/stream_executor/cuda/cuda_dnn.cc:9261] Unable to register cuDNN factory: Attempting to register factory for plugin cuDNN when one has already been registered\n",
      "2024-08-20 21:18:48.659503: E external/local_xla/xla/stream_executor/cuda/cuda_fft.cc:607] Unable to register cuFFT factory: Attempting to register factory for plugin cuFFT when one has already been registered\n",
      "2024-08-20 21:18:48.689152: E external/local_xla/xla/stream_executor/cuda/cuda_blas.cc:1515] Unable to register cuBLAS factory: Attempting to register factory for plugin cuBLAS when one has already been registered\n",
      "2024-08-20 21:18:48.767335: I tensorflow/core/platform/cpu_feature_guard.cc:182] This TensorFlow binary is optimized to use available CPU instructions in performance-critical operations.\n",
      "To enable the following instructions: AVX2 FMA, in other operations, rebuild TensorFlow with the appropriate compiler flags.\n",
      "2024-08-20 21:18:50.297591: W tensorflow/compiler/tf2tensorrt/utils/py_utils.cc:38] TF-TRT Warning: Could not find TensorRT\n",
      "/home/chakir/Bureau/PROJETS/Projet7/env/lib/python3.10/site-packages/IPython/core/magics/osm.py:417: UserWarning: This is now an optional IPython functionality, setting dhist requires you to install the `pickleshare` library.\n",
      "  self.shell.db['dhist'] = compress_dhist(dhist)[-100:]\n"
     ]
    },
    {
     "name": "stdout",
     "output_type": "stream",
     "text": [
      "/home/chakir/Bureau/PROJETS/Projet7\n",
      "/home/chakir/Bureau/PROJETS/Projet7/notebooks\n"
     ]
    },
    {
     "name": "stderr",
     "output_type": "stream",
     "text": [
      "/home/chakir/Bureau/PROJETS/Projet7/env/lib/python3.10/site-packages/IPython/core/magics/osm.py:417: UserWarning: This is now an optional IPython functionality, setting dhist requires you to install the `pickleshare` library.\n",
      "  self.shell.db['dhist'] = compress_dhist(dhist)[-100:]\n"
     ]
    }
   ],
   "source": [
    "import pandas as pd\n",
    "import numpy as np\n",
    "import matplotlib.pyplot as plt\n",
    "from time import time\n",
    "\n",
    "from sklearn.ensemble import RandomForestClassifier\n",
    "from sklearn.metrics import accuracy_score, precision_score, recall_score, f1_score, roc_auc_score\n",
    "from sklearn.metrics import adjusted_rand_score, confusion_matrix, ConfusionMatrixDisplay\n",
    "from sklearn.preprocessing import MinMaxScaler\n",
    "from sklearn.model_selection import train_test_split, GridSearchCV\n",
    "import joblib\n",
    "\n",
    "import tensorflow as tf\n",
    "from tensorflow.keras.preprocessing.image import ImageDataGenerator\n",
    "from tensorflow.keras.applications import InceptionV3, EfficientNetV2B3\n",
    "from tensorflow.keras.models import Sequential\n",
    "from tensorflow.keras.layers import LSTM, Dense, Flatten, GlobalAveragePooling2D\n",
    "from tensorflow.keras.regularizers import l1\n",
    "from tensorflow.keras.utils import to_categorical, set_random_seed\n",
    "from tensorflow.keras.optimizers import Adam, Nadam\n",
    "from tensorflow.keras.callbacks import ReduceLROnPlateau, EarlyStopping\n",
    "\n",
    "from pyts.image import GramianAngularField\n",
    "\n",
    "import os\n",
    "from PIL import Image\n",
    "\n",
    "%cd ..\n",
    "import src.mytools as mt\n",
    "%cd notebooks"
   ]
  },
  {
   "cell_type": "markdown",
   "metadata": {},
   "source": [
    "Le dataset sur lequel nous allons travailler est le **MIT-BIH Arhythmia Database**. Il s'agit de 109444 ECG de patients d'un hôpital de Boston enregistrés entre 1975 et 1979. Les patients sont des hommes et des femmes âgés entre 23 et 89 ans. Les ECG ont été annotés par au moins deux médecins selon cinq modalités : normal beat (N), supraventricular premature beat (S), premature ventricular contraction (V), fusion of ventricular and normal beat (F) et unclassifiable beat (Q).\n",
    "\n",
    "Ces séries temporelles ont été plus tard numérisés, mises sous forme tabulaire et normalisés (MinMax). Ici, elles ont déjà été scindées en un dataset d'entraînement et un autre de test. Nous allons commencer par charger et fusionner les deux fichiers, que nous re-scinderons aléatoirement plus tard :"
   ]
  },
  {
   "cell_type": "code",
   "execution_count": 2,
   "metadata": {},
   "outputs": [],
   "source": [
    "data1 = pd.read_csv('../data/mitbih_train.csv')\n",
    "data2 = pd.read_csv('../data/mitbih_test.csv')"
   ]
  },
  {
   "cell_type": "code",
   "execution_count": 3,
   "metadata": {},
   "outputs": [
    {
     "data": {
      "text/plain": [
       "109444"
      ]
     },
     "execution_count": 3,
     "metadata": {},
     "output_type": "execute_result"
    }
   ],
   "source": [
    "data1.shape[0] + data2.shape[0]"
   ]
  },
  {
   "cell_type": "code",
   "execution_count": 4,
   "metadata": {},
   "outputs": [
    {
     "data": {
      "text/plain": [
       "(109444, 188)"
      ]
     },
     "execution_count": 4,
     "metadata": {},
     "output_type": "execute_result"
    }
   ],
   "source": [
    "data1.columns = range(188)\n",
    "data2.columns = range(188)\n",
    "data = pd.concat([data1,data2])\n",
    "data.shape"
   ]
  },
  {
   "cell_type": "markdown",
   "metadata": {},
   "source": [
    "La dernière colonne du dataset correspond à la variable cible, qui est déjà encodée (Label Encoder)."
   ]
  },
  {
   "cell_type": "code",
   "execution_count": 5,
   "metadata": {},
   "outputs": [
    {
     "data": {
      "text/html": [
       "<div>\n",
       "<style scoped>\n",
       "    .dataframe tbody tr th:only-of-type {\n",
       "        vertical-align: middle;\n",
       "    }\n",
       "\n",
       "    .dataframe tbody tr th {\n",
       "        vertical-align: top;\n",
       "    }\n",
       "\n",
       "    .dataframe thead th {\n",
       "        text-align: right;\n",
       "    }\n",
       "</style>\n",
       "<table border=\"1\" class=\"dataframe\">\n",
       "  <thead>\n",
       "    <tr style=\"text-align: right;\">\n",
       "      <th></th>\n",
       "      <th>0</th>\n",
       "      <th>1</th>\n",
       "      <th>2</th>\n",
       "      <th>3</th>\n",
       "      <th>4</th>\n",
       "      <th>5</th>\n",
       "      <th>6</th>\n",
       "      <th>7</th>\n",
       "      <th>8</th>\n",
       "      <th>9</th>\n",
       "      <th>...</th>\n",
       "      <th>178</th>\n",
       "      <th>179</th>\n",
       "      <th>180</th>\n",
       "      <th>181</th>\n",
       "      <th>182</th>\n",
       "      <th>183</th>\n",
       "      <th>184</th>\n",
       "      <th>185</th>\n",
       "      <th>186</th>\n",
       "      <th>187</th>\n",
       "    </tr>\n",
       "  </thead>\n",
       "  <tbody>\n",
       "    <tr>\n",
       "      <th>0</th>\n",
       "      <td>0.960114</td>\n",
       "      <td>0.863248</td>\n",
       "      <td>0.461538</td>\n",
       "      <td>0.196581</td>\n",
       "      <td>0.094017</td>\n",
       "      <td>0.125356</td>\n",
       "      <td>0.099715</td>\n",
       "      <td>0.088319</td>\n",
       "      <td>0.074074</td>\n",
       "      <td>0.082621</td>\n",
       "      <td>...</td>\n",
       "      <td>0.0</td>\n",
       "      <td>0.0</td>\n",
       "      <td>0.0</td>\n",
       "      <td>0.0</td>\n",
       "      <td>0.0</td>\n",
       "      <td>0.0</td>\n",
       "      <td>0.0</td>\n",
       "      <td>0.0</td>\n",
       "      <td>0.0</td>\n",
       "      <td>0.0</td>\n",
       "    </tr>\n",
       "    <tr>\n",
       "      <th>1</th>\n",
       "      <td>1.000000</td>\n",
       "      <td>0.659459</td>\n",
       "      <td>0.186486</td>\n",
       "      <td>0.070270</td>\n",
       "      <td>0.070270</td>\n",
       "      <td>0.059459</td>\n",
       "      <td>0.056757</td>\n",
       "      <td>0.043243</td>\n",
       "      <td>0.054054</td>\n",
       "      <td>0.045946</td>\n",
       "      <td>...</td>\n",
       "      <td>0.0</td>\n",
       "      <td>0.0</td>\n",
       "      <td>0.0</td>\n",
       "      <td>0.0</td>\n",
       "      <td>0.0</td>\n",
       "      <td>0.0</td>\n",
       "      <td>0.0</td>\n",
       "      <td>0.0</td>\n",
       "      <td>0.0</td>\n",
       "      <td>0.0</td>\n",
       "    </tr>\n",
       "    <tr>\n",
       "      <th>2</th>\n",
       "      <td>0.925414</td>\n",
       "      <td>0.665746</td>\n",
       "      <td>0.541436</td>\n",
       "      <td>0.276243</td>\n",
       "      <td>0.196133</td>\n",
       "      <td>0.077348</td>\n",
       "      <td>0.071823</td>\n",
       "      <td>0.060773</td>\n",
       "      <td>0.066298</td>\n",
       "      <td>0.058011</td>\n",
       "      <td>...</td>\n",
       "      <td>0.0</td>\n",
       "      <td>0.0</td>\n",
       "      <td>0.0</td>\n",
       "      <td>0.0</td>\n",
       "      <td>0.0</td>\n",
       "      <td>0.0</td>\n",
       "      <td>0.0</td>\n",
       "      <td>0.0</td>\n",
       "      <td>0.0</td>\n",
       "      <td>0.0</td>\n",
       "    </tr>\n",
       "    <tr>\n",
       "      <th>3</th>\n",
       "      <td>0.967136</td>\n",
       "      <td>1.000000</td>\n",
       "      <td>0.830986</td>\n",
       "      <td>0.586854</td>\n",
       "      <td>0.356808</td>\n",
       "      <td>0.248826</td>\n",
       "      <td>0.145540</td>\n",
       "      <td>0.089202</td>\n",
       "      <td>0.117371</td>\n",
       "      <td>0.150235</td>\n",
       "      <td>...</td>\n",
       "      <td>0.0</td>\n",
       "      <td>0.0</td>\n",
       "      <td>0.0</td>\n",
       "      <td>0.0</td>\n",
       "      <td>0.0</td>\n",
       "      <td>0.0</td>\n",
       "      <td>0.0</td>\n",
       "      <td>0.0</td>\n",
       "      <td>0.0</td>\n",
       "      <td>0.0</td>\n",
       "    </tr>\n",
       "    <tr>\n",
       "      <th>4</th>\n",
       "      <td>0.927461</td>\n",
       "      <td>1.000000</td>\n",
       "      <td>0.626943</td>\n",
       "      <td>0.193437</td>\n",
       "      <td>0.094991</td>\n",
       "      <td>0.072539</td>\n",
       "      <td>0.043178</td>\n",
       "      <td>0.053541</td>\n",
       "      <td>0.093264</td>\n",
       "      <td>0.189983</td>\n",
       "      <td>...</td>\n",
       "      <td>0.0</td>\n",
       "      <td>0.0</td>\n",
       "      <td>0.0</td>\n",
       "      <td>0.0</td>\n",
       "      <td>0.0</td>\n",
       "      <td>0.0</td>\n",
       "      <td>0.0</td>\n",
       "      <td>0.0</td>\n",
       "      <td>0.0</td>\n",
       "      <td>0.0</td>\n",
       "    </tr>\n",
       "  </tbody>\n",
       "</table>\n",
       "<p>5 rows × 188 columns</p>\n",
       "</div>"
      ],
      "text/plain": [
       "        0         1         2         3         4         5         6    \\\n",
       "0  0.960114  0.863248  0.461538  0.196581  0.094017  0.125356  0.099715   \n",
       "1  1.000000  0.659459  0.186486  0.070270  0.070270  0.059459  0.056757   \n",
       "2  0.925414  0.665746  0.541436  0.276243  0.196133  0.077348  0.071823   \n",
       "3  0.967136  1.000000  0.830986  0.586854  0.356808  0.248826  0.145540   \n",
       "4  0.927461  1.000000  0.626943  0.193437  0.094991  0.072539  0.043178   \n",
       "\n",
       "        7         8         9    ...  178  179  180  181  182  183  184  185  \\\n",
       "0  0.088319  0.074074  0.082621  ...  0.0  0.0  0.0  0.0  0.0  0.0  0.0  0.0   \n",
       "1  0.043243  0.054054  0.045946  ...  0.0  0.0  0.0  0.0  0.0  0.0  0.0  0.0   \n",
       "2  0.060773  0.066298  0.058011  ...  0.0  0.0  0.0  0.0  0.0  0.0  0.0  0.0   \n",
       "3  0.089202  0.117371  0.150235  ...  0.0  0.0  0.0  0.0  0.0  0.0  0.0  0.0   \n",
       "4  0.053541  0.093264  0.189983  ...  0.0  0.0  0.0  0.0  0.0  0.0  0.0  0.0   \n",
       "\n",
       "   186  187  \n",
       "0  0.0  0.0  \n",
       "1  0.0  0.0  \n",
       "2  0.0  0.0  \n",
       "3  0.0  0.0  \n",
       "4  0.0  0.0  \n",
       "\n",
       "[5 rows x 188 columns]"
      ]
     },
     "execution_count": 5,
     "metadata": {},
     "output_type": "execute_result"
    }
   ],
   "source": [
    "data.head()"
   ]
  },
  {
   "cell_type": "code",
   "execution_count": 6,
   "metadata": {},
   "outputs": [
    {
     "data": {
      "text/plain": [
       "array([0., 1., 2., 3., 4.])"
      ]
     },
     "execution_count": 6,
     "metadata": {},
     "output_type": "execute_result"
    }
   ],
   "source": [
    "data.iloc[:,187].unique()"
   ]
  },
  {
   "cell_type": "markdown",
   "metadata": {},
   "source": [
    "L'encodage a été réalisé de la façon suivante :\n",
    "\n",
    "N : 0 \n",
    "\n",
    "S : 1\n",
    "\n",
    "V : 2\n",
    "\n",
    "F : 3\n",
    "\n",
    "Q : 4"
   ]
  },
  {
   "cell_type": "code",
   "execution_count": 7,
   "metadata": {},
   "outputs": [
    {
     "data": {
      "text/html": [
       "<div>\n",
       "<style scoped>\n",
       "    .dataframe tbody tr th:only-of-type {\n",
       "        vertical-align: middle;\n",
       "    }\n",
       "\n",
       "    .dataframe tbody tr th {\n",
       "        vertical-align: top;\n",
       "    }\n",
       "\n",
       "    .dataframe thead th {\n",
       "        text-align: right;\n",
       "    }\n",
       "</style>\n",
       "<table border=\"1\" class=\"dataframe\">\n",
       "  <thead>\n",
       "    <tr style=\"text-align: right;\">\n",
       "      <th></th>\n",
       "      <th>effectif</th>\n",
       "      <th>taux</th>\n",
       "    </tr>\n",
       "  </thead>\n",
       "  <tbody>\n",
       "  </tbody>\n",
       "</table>\n",
       "</div>"
      ],
      "text/plain": [
       "Empty DataFrame\n",
       "Columns: [effectif, taux]\n",
       "Index: []"
      ]
     },
     "execution_count": 7,
     "metadata": {},
     "output_type": "execute_result"
    }
   ],
   "source": [
    "mt.valeurs_manquantes(data)"
   ]
  },
  {
   "cell_type": "markdown",
   "metadata": {},
   "source": [
    "Il n'y a aucune valeur manquante dans le dataset."
   ]
  },
  {
   "cell_type": "code",
   "execution_count": 8,
   "metadata": {},
   "outputs": [],
   "source": [
    "stat = mt.stats_extend(data)[['min','max']]"
   ]
  },
  {
   "cell_type": "code",
   "execution_count": 9,
   "metadata": {},
   "outputs": [
    {
     "data": {
      "text/html": [
       "<div>\n",
       "<style scoped>\n",
       "    .dataframe tbody tr th:only-of-type {\n",
       "        vertical-align: middle;\n",
       "    }\n",
       "\n",
       "    .dataframe tbody tr th {\n",
       "        vertical-align: top;\n",
       "    }\n",
       "\n",
       "    .dataframe thead th {\n",
       "        text-align: right;\n",
       "    }\n",
       "</style>\n",
       "<table border=\"1\" class=\"dataframe\">\n",
       "  <thead>\n",
       "    <tr style=\"text-align: right;\">\n",
       "      <th></th>\n",
       "      <th>min</th>\n",
       "      <th>max</th>\n",
       "    </tr>\n",
       "  </thead>\n",
       "  <tbody>\n",
       "    <tr>\n",
       "      <th>187</th>\n",
       "      <td>0.0</td>\n",
       "      <td>4.0</td>\n",
       "    </tr>\n",
       "  </tbody>\n",
       "</table>\n",
       "</div>"
      ],
      "text/plain": [
       "     min  max\n",
       "187  0.0  4.0"
      ]
     },
     "execution_count": 9,
     "metadata": {},
     "output_type": "execute_result"
    }
   ],
   "source": [
    "stat.loc[(stat['min'] != 0) | (stat['max'] != 1), :]"
   ]
  },
  {
   "cell_type": "markdown",
   "metadata": {},
   "source": [
    "Toutes les colonnes ont bien été normalisées avec le MinMax (La dernière correspond à la variable cible et ne fait pas partie des séries temporelles).\n",
    "\n",
    "Nous allons maintenant séparer les séries temporelles et la cible :"
   ]
  },
  {
   "cell_type": "code",
   "execution_count": 10,
   "metadata": {},
   "outputs": [
    {
     "data": {
      "text/plain": [
       "187"
      ]
     },
     "execution_count": 10,
     "metadata": {},
     "output_type": "execute_result"
    }
   ],
   "source": [
    "X = data.loc[:,:186]\n",
    "y = data[187]\n",
    "X.shape[1]"
   ]
  },
  {
   "cell_type": "markdown",
   "metadata": {},
   "source": [
    "X est le dataset d'entraînement et y est la variable cible.\n",
    "\n",
    "## 2. La baseline : une forêt aléatoire\n",
    "\n",
    "Nous allons maintenant effectué une recherche sur grille avec validation croisée pour trouver la forêt aléatoire optimale. Nous allons optimiser deux hyperparamètres :\n",
    "\n",
    "- Le nombre d'arbres : Entre 100 et 300, avec un pas de 50.\n",
    "- La profondeur des arbres : De 2 à 10."
   ]
  },
  {
   "cell_type": "code",
   "execution_count": 11,
   "metadata": {},
   "outputs": [
    {
     "name": "stderr",
     "output_type": "stream",
     "text": [
      "/home/chakir/Bureau/PROJETS/Projet7/env/lib/python3.10/site-packages/numpy/ma/core.py:2820: RuntimeWarning: invalid value encountered in cast\n",
      "  _data = np.array(data, dtype=dtype, copy=copy,\n"
     ]
    },
    {
     "name": "stdout",
     "output_type": "stream",
     "text": [
      "Meilleur(s) hyperparamètre(s) sur le jeu d'entraînement:\n",
      "{'max_depth': 10, 'n_estimators': 200}\n"
     ]
    }
   ],
   "source": [
    "# Fixer les valeurs des hyperparamètres à tester :\n",
    "param_grid = {'n_estimators': range(100,301,50),\n",
    "              'max_depth': range(2,11)}\n",
    "\n",
    "# Choisir le score à optimiser :\n",
    "score = 'f1_weighted'\n",
    "\n",
    "# Créer un modèle avec recherche d'hyperparamètres par validation croisée :\n",
    "model = GridSearchCV(RandomForestClassifier(),          # choix du modèle\n",
    "                     param_grid,                        # hyperparamètres à tester\n",
    "                     cv=5,                              # nombre de plis pour la validation croisée\n",
    "                     scoring=score)                     # score à optimiser\n",
    "\n",
    "# Optimiser ce modèle sur le jeu d'entraînement :\n",
    "model.fit(X, y)\n",
    "\n",
    "# Afficher le(s) hyperparamètre(s) optimaux :\n",
    "print(\"Meilleur(s) hyperparamètre(s) sur le jeu d'entraînement:\")\n",
    "print(model.best_params_)"
   ]
  },
  {
   "cell_type": "markdown",
   "metadata": {},
   "source": [
    "Le modèle optimal est le modèle à 200 arbres d'une profondeur de 10. Nous allons maintenant scinder aléatoirement l'ensemble des données en un dataset d'entraînement (80%) et un dataset de test (20%) :"
   ]
  },
  {
   "cell_type": "code",
   "execution_count": 11,
   "metadata": {},
   "outputs": [],
   "source": [
    "# Diviser les données en ensembles d'entraînement et de test\n",
    "X_train, X_test, y_train, y_test = train_test_split(X, y, test_size=0.2, random_state=42)"
   ]
  },
  {
   "cell_type": "markdown",
   "metadata": {},
   "source": [
    "Entraînons le modèle optimal et calculons ses performances sur les données de test :"
   ]
  },
  {
   "cell_type": "code",
   "execution_count": 12,
   "metadata": {},
   "outputs": [
    {
     "data": {
      "text/html": [
       "<style>#sk-container-id-1 {\n",
       "  /* Definition of color scheme common for light and dark mode */\n",
       "  --sklearn-color-text: black;\n",
       "  --sklearn-color-line: gray;\n",
       "  /* Definition of color scheme for unfitted estimators */\n",
       "  --sklearn-color-unfitted-level-0: #fff5e6;\n",
       "  --sklearn-color-unfitted-level-1: #f6e4d2;\n",
       "  --sklearn-color-unfitted-level-2: #ffe0b3;\n",
       "  --sklearn-color-unfitted-level-3: chocolate;\n",
       "  /* Definition of color scheme for fitted estimators */\n",
       "  --sklearn-color-fitted-level-0: #f0f8ff;\n",
       "  --sklearn-color-fitted-level-1: #d4ebff;\n",
       "  --sklearn-color-fitted-level-2: #b3dbfd;\n",
       "  --sklearn-color-fitted-level-3: cornflowerblue;\n",
       "\n",
       "  /* Specific color for light theme */\n",
       "  --sklearn-color-text-on-default-background: var(--sg-text-color, var(--theme-code-foreground, var(--jp-content-font-color1, black)));\n",
       "  --sklearn-color-background: var(--sg-background-color, var(--theme-background, var(--jp-layout-color0, white)));\n",
       "  --sklearn-color-border-box: var(--sg-text-color, var(--theme-code-foreground, var(--jp-content-font-color1, black)));\n",
       "  --sklearn-color-icon: #696969;\n",
       "\n",
       "  @media (prefers-color-scheme: dark) {\n",
       "    /* Redefinition of color scheme for dark theme */\n",
       "    --sklearn-color-text-on-default-background: var(--sg-text-color, var(--theme-code-foreground, var(--jp-content-font-color1, white)));\n",
       "    --sklearn-color-background: var(--sg-background-color, var(--theme-background, var(--jp-layout-color0, #111)));\n",
       "    --sklearn-color-border-box: var(--sg-text-color, var(--theme-code-foreground, var(--jp-content-font-color1, white)));\n",
       "    --sklearn-color-icon: #878787;\n",
       "  }\n",
       "}\n",
       "\n",
       "#sk-container-id-1 {\n",
       "  color: var(--sklearn-color-text);\n",
       "}\n",
       "\n",
       "#sk-container-id-1 pre {\n",
       "  padding: 0;\n",
       "}\n",
       "\n",
       "#sk-container-id-1 input.sk-hidden--visually {\n",
       "  border: 0;\n",
       "  clip: rect(1px 1px 1px 1px);\n",
       "  clip: rect(1px, 1px, 1px, 1px);\n",
       "  height: 1px;\n",
       "  margin: -1px;\n",
       "  overflow: hidden;\n",
       "  padding: 0;\n",
       "  position: absolute;\n",
       "  width: 1px;\n",
       "}\n",
       "\n",
       "#sk-container-id-1 div.sk-dashed-wrapped {\n",
       "  border: 1px dashed var(--sklearn-color-line);\n",
       "  margin: 0 0.4em 0.5em 0.4em;\n",
       "  box-sizing: border-box;\n",
       "  padding-bottom: 0.4em;\n",
       "  background-color: var(--sklearn-color-background);\n",
       "}\n",
       "\n",
       "#sk-container-id-1 div.sk-container {\n",
       "  /* jupyter's `normalize.less` sets `[hidden] { display: none; }`\n",
       "     but bootstrap.min.css set `[hidden] { display: none !important; }`\n",
       "     so we also need the `!important` here to be able to override the\n",
       "     default hidden behavior on the sphinx rendered scikit-learn.org.\n",
       "     See: https://github.com/scikit-learn/scikit-learn/issues/21755 */\n",
       "  display: inline-block !important;\n",
       "  position: relative;\n",
       "}\n",
       "\n",
       "#sk-container-id-1 div.sk-text-repr-fallback {\n",
       "  display: none;\n",
       "}\n",
       "\n",
       "div.sk-parallel-item,\n",
       "div.sk-serial,\n",
       "div.sk-item {\n",
       "  /* draw centered vertical line to link estimators */\n",
       "  background-image: linear-gradient(var(--sklearn-color-text-on-default-background), var(--sklearn-color-text-on-default-background));\n",
       "  background-size: 2px 100%;\n",
       "  background-repeat: no-repeat;\n",
       "  background-position: center center;\n",
       "}\n",
       "\n",
       "/* Parallel-specific style estimator block */\n",
       "\n",
       "#sk-container-id-1 div.sk-parallel-item::after {\n",
       "  content: \"\";\n",
       "  width: 100%;\n",
       "  border-bottom: 2px solid var(--sklearn-color-text-on-default-background);\n",
       "  flex-grow: 1;\n",
       "}\n",
       "\n",
       "#sk-container-id-1 div.sk-parallel {\n",
       "  display: flex;\n",
       "  align-items: stretch;\n",
       "  justify-content: center;\n",
       "  background-color: var(--sklearn-color-background);\n",
       "  position: relative;\n",
       "}\n",
       "\n",
       "#sk-container-id-1 div.sk-parallel-item {\n",
       "  display: flex;\n",
       "  flex-direction: column;\n",
       "}\n",
       "\n",
       "#sk-container-id-1 div.sk-parallel-item:first-child::after {\n",
       "  align-self: flex-end;\n",
       "  width: 50%;\n",
       "}\n",
       "\n",
       "#sk-container-id-1 div.sk-parallel-item:last-child::after {\n",
       "  align-self: flex-start;\n",
       "  width: 50%;\n",
       "}\n",
       "\n",
       "#sk-container-id-1 div.sk-parallel-item:only-child::after {\n",
       "  width: 0;\n",
       "}\n",
       "\n",
       "/* Serial-specific style estimator block */\n",
       "\n",
       "#sk-container-id-1 div.sk-serial {\n",
       "  display: flex;\n",
       "  flex-direction: column;\n",
       "  align-items: center;\n",
       "  background-color: var(--sklearn-color-background);\n",
       "  padding-right: 1em;\n",
       "  padding-left: 1em;\n",
       "}\n",
       "\n",
       "\n",
       "/* Toggleable style: style used for estimator/Pipeline/ColumnTransformer box that is\n",
       "clickable and can be expanded/collapsed.\n",
       "- Pipeline and ColumnTransformer use this feature and define the default style\n",
       "- Estimators will overwrite some part of the style using the `sk-estimator` class\n",
       "*/\n",
       "\n",
       "/* Pipeline and ColumnTransformer style (default) */\n",
       "\n",
       "#sk-container-id-1 div.sk-toggleable {\n",
       "  /* Default theme specific background. It is overwritten whether we have a\n",
       "  specific estimator or a Pipeline/ColumnTransformer */\n",
       "  background-color: var(--sklearn-color-background);\n",
       "}\n",
       "\n",
       "/* Toggleable label */\n",
       "#sk-container-id-1 label.sk-toggleable__label {\n",
       "  cursor: pointer;\n",
       "  display: block;\n",
       "  width: 100%;\n",
       "  margin-bottom: 0;\n",
       "  padding: 0.5em;\n",
       "  box-sizing: border-box;\n",
       "  text-align: center;\n",
       "}\n",
       "\n",
       "#sk-container-id-1 label.sk-toggleable__label-arrow:before {\n",
       "  /* Arrow on the left of the label */\n",
       "  content: \"▸\";\n",
       "  float: left;\n",
       "  margin-right: 0.25em;\n",
       "  color: var(--sklearn-color-icon);\n",
       "}\n",
       "\n",
       "#sk-container-id-1 label.sk-toggleable__label-arrow:hover:before {\n",
       "  color: var(--sklearn-color-text);\n",
       "}\n",
       "\n",
       "/* Toggleable content - dropdown */\n",
       "\n",
       "#sk-container-id-1 div.sk-toggleable__content {\n",
       "  max-height: 0;\n",
       "  max-width: 0;\n",
       "  overflow: hidden;\n",
       "  text-align: left;\n",
       "  /* unfitted */\n",
       "  background-color: var(--sklearn-color-unfitted-level-0);\n",
       "}\n",
       "\n",
       "#sk-container-id-1 div.sk-toggleable__content.fitted {\n",
       "  /* fitted */\n",
       "  background-color: var(--sklearn-color-fitted-level-0);\n",
       "}\n",
       "\n",
       "#sk-container-id-1 div.sk-toggleable__content pre {\n",
       "  margin: 0.2em;\n",
       "  border-radius: 0.25em;\n",
       "  color: var(--sklearn-color-text);\n",
       "  /* unfitted */\n",
       "  background-color: var(--sklearn-color-unfitted-level-0);\n",
       "}\n",
       "\n",
       "#sk-container-id-1 div.sk-toggleable__content.fitted pre {\n",
       "  /* unfitted */\n",
       "  background-color: var(--sklearn-color-fitted-level-0);\n",
       "}\n",
       "\n",
       "#sk-container-id-1 input.sk-toggleable__control:checked~div.sk-toggleable__content {\n",
       "  /* Expand drop-down */\n",
       "  max-height: 200px;\n",
       "  max-width: 100%;\n",
       "  overflow: auto;\n",
       "}\n",
       "\n",
       "#sk-container-id-1 input.sk-toggleable__control:checked~label.sk-toggleable__label-arrow:before {\n",
       "  content: \"▾\";\n",
       "}\n",
       "\n",
       "/* Pipeline/ColumnTransformer-specific style */\n",
       "\n",
       "#sk-container-id-1 div.sk-label input.sk-toggleable__control:checked~label.sk-toggleable__label {\n",
       "  color: var(--sklearn-color-text);\n",
       "  background-color: var(--sklearn-color-unfitted-level-2);\n",
       "}\n",
       "\n",
       "#sk-container-id-1 div.sk-label.fitted input.sk-toggleable__control:checked~label.sk-toggleable__label {\n",
       "  background-color: var(--sklearn-color-fitted-level-2);\n",
       "}\n",
       "\n",
       "/* Estimator-specific style */\n",
       "\n",
       "/* Colorize estimator box */\n",
       "#sk-container-id-1 div.sk-estimator input.sk-toggleable__control:checked~label.sk-toggleable__label {\n",
       "  /* unfitted */\n",
       "  background-color: var(--sklearn-color-unfitted-level-2);\n",
       "}\n",
       "\n",
       "#sk-container-id-1 div.sk-estimator.fitted input.sk-toggleable__control:checked~label.sk-toggleable__label {\n",
       "  /* fitted */\n",
       "  background-color: var(--sklearn-color-fitted-level-2);\n",
       "}\n",
       "\n",
       "#sk-container-id-1 div.sk-label label.sk-toggleable__label,\n",
       "#sk-container-id-1 div.sk-label label {\n",
       "  /* The background is the default theme color */\n",
       "  color: var(--sklearn-color-text-on-default-background);\n",
       "}\n",
       "\n",
       "/* On hover, darken the color of the background */\n",
       "#sk-container-id-1 div.sk-label:hover label.sk-toggleable__label {\n",
       "  color: var(--sklearn-color-text);\n",
       "  background-color: var(--sklearn-color-unfitted-level-2);\n",
       "}\n",
       "\n",
       "/* Label box, darken color on hover, fitted */\n",
       "#sk-container-id-1 div.sk-label.fitted:hover label.sk-toggleable__label.fitted {\n",
       "  color: var(--sklearn-color-text);\n",
       "  background-color: var(--sklearn-color-fitted-level-2);\n",
       "}\n",
       "\n",
       "/* Estimator label */\n",
       "\n",
       "#sk-container-id-1 div.sk-label label {\n",
       "  font-family: monospace;\n",
       "  font-weight: bold;\n",
       "  display: inline-block;\n",
       "  line-height: 1.2em;\n",
       "}\n",
       "\n",
       "#sk-container-id-1 div.sk-label-container {\n",
       "  text-align: center;\n",
       "}\n",
       "\n",
       "/* Estimator-specific */\n",
       "#sk-container-id-1 div.sk-estimator {\n",
       "  font-family: monospace;\n",
       "  border: 1px dotted var(--sklearn-color-border-box);\n",
       "  border-radius: 0.25em;\n",
       "  box-sizing: border-box;\n",
       "  margin-bottom: 0.5em;\n",
       "  /* unfitted */\n",
       "  background-color: var(--sklearn-color-unfitted-level-0);\n",
       "}\n",
       "\n",
       "#sk-container-id-1 div.sk-estimator.fitted {\n",
       "  /* fitted */\n",
       "  background-color: var(--sklearn-color-fitted-level-0);\n",
       "}\n",
       "\n",
       "/* on hover */\n",
       "#sk-container-id-1 div.sk-estimator:hover {\n",
       "  /* unfitted */\n",
       "  background-color: var(--sklearn-color-unfitted-level-2);\n",
       "}\n",
       "\n",
       "#sk-container-id-1 div.sk-estimator.fitted:hover {\n",
       "  /* fitted */\n",
       "  background-color: var(--sklearn-color-fitted-level-2);\n",
       "}\n",
       "\n",
       "/* Specification for estimator info (e.g. \"i\" and \"?\") */\n",
       "\n",
       "/* Common style for \"i\" and \"?\" */\n",
       "\n",
       ".sk-estimator-doc-link,\n",
       "a:link.sk-estimator-doc-link,\n",
       "a:visited.sk-estimator-doc-link {\n",
       "  float: right;\n",
       "  font-size: smaller;\n",
       "  line-height: 1em;\n",
       "  font-family: monospace;\n",
       "  background-color: var(--sklearn-color-background);\n",
       "  border-radius: 1em;\n",
       "  height: 1em;\n",
       "  width: 1em;\n",
       "  text-decoration: none !important;\n",
       "  margin-left: 1ex;\n",
       "  /* unfitted */\n",
       "  border: var(--sklearn-color-unfitted-level-1) 1pt solid;\n",
       "  color: var(--sklearn-color-unfitted-level-1);\n",
       "}\n",
       "\n",
       ".sk-estimator-doc-link.fitted,\n",
       "a:link.sk-estimator-doc-link.fitted,\n",
       "a:visited.sk-estimator-doc-link.fitted {\n",
       "  /* fitted */\n",
       "  border: var(--sklearn-color-fitted-level-1) 1pt solid;\n",
       "  color: var(--sklearn-color-fitted-level-1);\n",
       "}\n",
       "\n",
       "/* On hover */\n",
       "div.sk-estimator:hover .sk-estimator-doc-link:hover,\n",
       ".sk-estimator-doc-link:hover,\n",
       "div.sk-label-container:hover .sk-estimator-doc-link:hover,\n",
       ".sk-estimator-doc-link:hover {\n",
       "  /* unfitted */\n",
       "  background-color: var(--sklearn-color-unfitted-level-3);\n",
       "  color: var(--sklearn-color-background);\n",
       "  text-decoration: none;\n",
       "}\n",
       "\n",
       "div.sk-estimator.fitted:hover .sk-estimator-doc-link.fitted:hover,\n",
       ".sk-estimator-doc-link.fitted:hover,\n",
       "div.sk-label-container:hover .sk-estimator-doc-link.fitted:hover,\n",
       ".sk-estimator-doc-link.fitted:hover {\n",
       "  /* fitted */\n",
       "  background-color: var(--sklearn-color-fitted-level-3);\n",
       "  color: var(--sklearn-color-background);\n",
       "  text-decoration: none;\n",
       "}\n",
       "\n",
       "/* Span, style for the box shown on hovering the info icon */\n",
       ".sk-estimator-doc-link span {\n",
       "  display: none;\n",
       "  z-index: 9999;\n",
       "  position: relative;\n",
       "  font-weight: normal;\n",
       "  right: .2ex;\n",
       "  padding: .5ex;\n",
       "  margin: .5ex;\n",
       "  width: min-content;\n",
       "  min-width: 20ex;\n",
       "  max-width: 50ex;\n",
       "  color: var(--sklearn-color-text);\n",
       "  box-shadow: 2pt 2pt 4pt #999;\n",
       "  /* unfitted */\n",
       "  background: var(--sklearn-color-unfitted-level-0);\n",
       "  border: .5pt solid var(--sklearn-color-unfitted-level-3);\n",
       "}\n",
       "\n",
       ".sk-estimator-doc-link.fitted span {\n",
       "  /* fitted */\n",
       "  background: var(--sklearn-color-fitted-level-0);\n",
       "  border: var(--sklearn-color-fitted-level-3);\n",
       "}\n",
       "\n",
       ".sk-estimator-doc-link:hover span {\n",
       "  display: block;\n",
       "}\n",
       "\n",
       "/* \"?\"-specific style due to the `<a>` HTML tag */\n",
       "\n",
       "#sk-container-id-1 a.estimator_doc_link {\n",
       "  float: right;\n",
       "  font-size: 1rem;\n",
       "  line-height: 1em;\n",
       "  font-family: monospace;\n",
       "  background-color: var(--sklearn-color-background);\n",
       "  border-radius: 1rem;\n",
       "  height: 1rem;\n",
       "  width: 1rem;\n",
       "  text-decoration: none;\n",
       "  /* unfitted */\n",
       "  color: var(--sklearn-color-unfitted-level-1);\n",
       "  border: var(--sklearn-color-unfitted-level-1) 1pt solid;\n",
       "}\n",
       "\n",
       "#sk-container-id-1 a.estimator_doc_link.fitted {\n",
       "  /* fitted */\n",
       "  border: var(--sklearn-color-fitted-level-1) 1pt solid;\n",
       "  color: var(--sklearn-color-fitted-level-1);\n",
       "}\n",
       "\n",
       "/* On hover */\n",
       "#sk-container-id-1 a.estimator_doc_link:hover {\n",
       "  /* unfitted */\n",
       "  background-color: var(--sklearn-color-unfitted-level-3);\n",
       "  color: var(--sklearn-color-background);\n",
       "  text-decoration: none;\n",
       "}\n",
       "\n",
       "#sk-container-id-1 a.estimator_doc_link.fitted:hover {\n",
       "  /* fitted */\n",
       "  background-color: var(--sklearn-color-fitted-level-3);\n",
       "}\n",
       "</style><div id=\"sk-container-id-1\" class=\"sk-top-container\"><div class=\"sk-text-repr-fallback\"><pre>RandomForestClassifier(max_depth=10, n_estimators=200, random_state=42)</pre><b>In a Jupyter environment, please rerun this cell to show the HTML representation or trust the notebook. <br />On GitHub, the HTML representation is unable to render, please try loading this page with nbviewer.org.</b></div><div class=\"sk-container\" hidden><div class=\"sk-item\"><div class=\"sk-estimator fitted sk-toggleable\"><input class=\"sk-toggleable__control sk-hidden--visually\" id=\"sk-estimator-id-1\" type=\"checkbox\" checked><label for=\"sk-estimator-id-1\" class=\"sk-toggleable__label fitted sk-toggleable__label-arrow fitted\">&nbsp;&nbsp;RandomForestClassifier<a class=\"sk-estimator-doc-link fitted\" rel=\"noreferrer\" target=\"_blank\" href=\"https://scikit-learn.org/1.5/modules/generated/sklearn.ensemble.RandomForestClassifier.html\">?<span>Documentation for RandomForestClassifier</span></a><span class=\"sk-estimator-doc-link fitted\">i<span>Fitted</span></span></label><div class=\"sk-toggleable__content fitted\"><pre>RandomForestClassifier(max_depth=10, n_estimators=200, random_state=42)</pre></div> </div></div></div></div>"
      ],
      "text/plain": [
       "RandomForestClassifier(max_depth=10, n_estimators=200, random_state=42)"
      ]
     },
     "execution_count": 12,
     "metadata": {},
     "output_type": "execute_result"
    }
   ],
   "source": [
    "model = RandomForestClassifier(n_estimators=200, max_depth=10, random_state=42)\n",
    "model.fit(X_train, y_train)"
   ]
  },
  {
   "cell_type": "code",
   "execution_count": 13,
   "metadata": {},
   "outputs": [],
   "source": [
    "y_pred = model.predict(X_test)\n",
    "y_pred_proba = model.predict_proba(X_test)"
   ]
  },
  {
   "cell_type": "markdown",
   "metadata": {},
   "source": [
    "La fonction `metrics_display` ci-dessous permet de calculer et d'afficher plusieurs métriques de classification ainsi que la matrice de confusion."
   ]
  },
  {
   "cell_type": "code",
   "execution_count": 12,
   "metadata": {},
   "outputs": [],
   "source": [
    "def metrics_display(true_labels, predicted_labels, predicted_probas=None):\n",
    "    accuracy = accuracy_score(true_labels, predicted_labels)\n",
    "    precision = precision_score(true_labels, predicted_labels, average='macro')\n",
    "    recall = recall_score(true_labels, predicted_labels, average='macro')\n",
    "    f1 = f1_score(true_labels, predicted_labels, average='macro')\n",
    "    ARI = adjusted_rand_score(true_labels, predicted_labels)\n",
    "    print(f'accuracy = {accuracy}   precision = {precision}   recall={recall}   f1 = {f1}   ARI = {ARI}')\n",
    "\n",
    "    if predicted_probas is not None:\n",
    "        AUC = roc_auc_score(true_labels, predicted_probas, average='macro', multi_class='ovr')\n",
    "        print(f'AUC-ROC = {AUC}')\n",
    "\n",
    "    cm = confusion_matrix(true_labels, predicted_labels)\n",
    "    cm_percentage = cm.astype('float') / cm.sum(axis=1)[:, np.newaxis] * 100\n",
    "\n",
    "    fig, axes = plt.subplots(1, 2, figsize=(12, 6))\n",
    "\n",
    "    disp1 = ConfusionMatrixDisplay(confusion_matrix=cm, display_labels=['N', 'S', 'V', 'F', 'Q'])\n",
    "    disp1.plot(cmap='Reds', ax=axes[0], colorbar=False)\n",
    "    axes[0].set_title('Matrice brute')\n",
    "\n",
    "    disp2 = ConfusionMatrixDisplay(confusion_matrix=cm_percentage, display_labels=['N', 'S', 'V', 'F', 'Q'])\n",
    "    disp2.plot(cmap='Blues', ax=axes[1], colorbar=False)\n",
    "    axes[1].set_title('Matrice en pourcentages')\n",
    "\n",
    "    plt.tight_layout()\n",
    "    plt.show()"
   ]
  },
  {
   "cell_type": "code",
   "execution_count": 21,
   "metadata": {},
   "outputs": [
    {
     "name": "stdout",
     "output_type": "stream",
     "text": [
      "accuracy = 0.9585636621133903   precision = 0.9681446915137301   recall=0.660062933661351   f1 = 0.7292184394540592   ARI = 0.82230018510984\n",
      "AUC-ROC = 0.9713433511338068\n"
     ]
    },
    {
     "data": {
      "image/png": "[encoded data removed]",
      "text/plain": [
       "<Figure size 1200x600 with 2 Axes>"
      ]
     },
     "metadata": {},
     "output_type": "display_data"
    }
   ],
   "source": [
    "metrics_display(y_test, y_pred, y_pred_proba)"
   ]
  },
  {
   "cell_type": "markdown",
   "metadata": {},
   "source": [
    "On peut voir que le recall score est insatisfaisant en raison des classes S et F (les deux plus petites classes) qui sont mal voir très mal classées et souvent confondues avec la classe majoritaire N.\n",
    "\n",
    "On enregistre le modèle localement :"
   ]
  },
  {
   "cell_type": "code",
   "execution_count": 22,
   "metadata": {},
   "outputs": [
    {
     "data": {
      "text/plain": [
       "['random_forest_baseline.joblib']"
      ]
     },
     "execution_count": 22,
     "metadata": {},
     "output_type": "execute_result"
    }
   ],
   "source": [
    "joblib.dump(model, '../models/random_forest_baseline.joblib')"
   ]
  },
  {
   "cell_type": "markdown",
   "metadata": {},
   "source": [
    "## 3. Transfert learning avec deux CNN : InceptionV3 et EfficientNetV2\n",
    "\n",
    "### 3.1 Transformation des séries temporelles en images\n",
    "\n",
    "Pour pouvoir utiliser des modèles de CNN pré-entraîné, il nous faut convertir chaque série temporelle en image. Il y a plusieurs méthodes de transformation et celle que nous allons utilisée est la méthode des champs angulaires de Gram (GAF).\n",
    "\n",
    "Les séries temporelles vont être transformées en images de taille 100*100 ; c'est la taille maximale que j'ai pu obtenir sans faire planter mon noyau."
   ]
  },
  {
   "cell_type": "code",
   "execution_count": 23,
   "metadata": {},
   "outputs": [],
   "source": [
    "# Initialiser GAF avec une taille d'image plus petite\n",
    "gaf = GramianAngularField(image_size=100, method='summation')\n",
    "\n",
    "# Transformer les données\n",
    "X_train_gaf = gaf.fit_transform(X_train)\n",
    "X_test_gaf = gaf.fit_transform(X_test)"
   ]
  },
  {
   "cell_type": "code",
   "execution_count": 24,
   "metadata": {},
   "outputs": [
    {
     "data": {
      "text/plain": [
       "(87555, 100, 100)"
      ]
     },
     "execution_count": 24,
     "metadata": {},
     "output_type": "execute_result"
    }
   ],
   "source": [
    "X_train_gaf.shape"
   ]
  },
  {
   "cell_type": "markdown",
   "metadata": {},
   "source": [
    "Nous allons maintenant créer deux dossiers **train_images** et **test_images** dans lesquels nous allons enregistrer les images d'entraînement et de test. Chaque dossier contiendra 5 sous-dossiers correspondant aux 5 catégories de signaux."
   ]
  },
  {
   "cell_type": "code",
   "execution_count": 13,
   "metadata": {},
   "outputs": [],
   "source": [
    "train_dir = '../data/train_images'\n",
    "test_dir = '../data/test_images'"
   ]
  },
  {
   "cell_type": "code",
   "execution_count": null,
   "metadata": {},
   "outputs": [],
   "source": [
    "# Créer des répertoires pour les images d'entraînement et de test\n",
    "os.makedirs(train_dir, exist_ok=True)\n",
    "os.makedirs(test_dir, exist_ok=True)\n",
    "\n",
    "# Créer des répertoires pour chaque classe\n",
    "\n",
    "for classes in y.unique():\n",
    "    os.makedirs(os.path.join(train_dir, str(int(classes))), exist_ok=True)\n",
    "    os.makedirs(os.path.join(test_dir, str(int(classes))), exist_ok=True)"
   ]
  },
  {
   "cell_type": "code",
   "execution_count": 26,
   "metadata": {},
   "outputs": [],
   "source": [
    "def save_images(images, labels, directory):\n",
    "    \"\"\"\n",
    "    Redimensionner et sauvegarder les images en format JPEG.\n",
    "    \n",
    "    Parameters:\n",
    "    - images : numpy array, tableau des images à sauvegarder.\n",
    "    - directory : str, répertoire où sauvegarder les images.\n",
    "    - file_prefix : str, préfixe pour les noms de fichiers.\n",
    "    \"\"\"\n",
    "    \n",
    "    for i, img in enumerate(images):\n",
    "        # Normaliser les valeurs flottantes entre 0 et 255 et convertir en uint8\n",
    "        img_uint8 = (img - img.min()) / (img.max() - img.min()) * 255\n",
    "        img_uint8 = img_uint8.astype(np.uint8)\n",
    "        \n",
    "        # Convertir en image PIL et redimensionner\n",
    "        img_pil = Image.fromarray(img_uint8)\n",
    "        img_resized = img_pil.resize((100, 100))\n",
    "        \n",
    "        # Sauvegarder l'image\n",
    "        classe = str(int(labels[i]))\n",
    "        img_resized.save(os.path.join(f'../data/{directory}/{classe}', f'{classe}_{i}.jpg'))"
   ]
  },
  {
   "cell_type": "code",
   "execution_count": 27,
   "metadata": {},
   "outputs": [],
   "source": [
    "# Redimensionner et sauvegarder les images pour l'ensemble d'entraînement\n",
    "save_images(X_train_gaf, y_train.values, train_dir)\n",
    "\n",
    "# Redimensionner et sauvegarder les images pour l'ensemble de test\n",
    "save_images(X_test_gaf, y_test.values, test_dir)"
   ]
  },
  {
   "cell_type": "markdown",
   "metadata": {},
   "source": [
    "### 3.2 Construction des générateurs d'images pour les CNN\n",
    "\n",
    "Commençons par fixer les germes des générateurs aléatoires pour assurer la reproductibilité des résultats :"
   ]
  },
  {
   "cell_type": "code",
   "execution_count": 14,
   "metadata": {},
   "outputs": [],
   "source": [
    "# Fixation des sources des générateurs aléatoires pour assurer la reproductibilité des résultats.\n",
    "seed_value = 42\n",
    "set_random_seed(seed_value)"
   ]
  },
  {
   "cell_type": "markdown",
   "metadata": {},
   "source": [
    "Nous allons maintenant construire un générateur d'entraînement et un génrateur de test. Les images d'entraînement seront présentées dans un ordre différent à chaque époque (*shuffle = True*)."
   ]
  },
  {
   "cell_type": "code",
   "execution_count": 15,
   "metadata": {},
   "outputs": [
    {
     "name": "stdout",
     "output_type": "stream",
     "text": [
      "Found 87555 images belonging to 5 classes.\n",
      "Found 21889 images belonging to 5 classes.\n"
     ]
    }
   ],
   "source": [
    "# Définition des générateurs de données\n",
    "\n",
    "generator = ImageDataGenerator(rescale=1./255)\n",
    "\n",
    "train_generator = generator.flow_from_directory(train_dir,\n",
    "                                                target_size=(100, 100),\n",
    "                                                class_mode='categorical',\n",
    "                                                seed=seed_value\n",
    "                                                )\n",
    "\n",
    "test_generator = generator.flow_from_directory(test_dir,\n",
    "                                               target_size=(100, 100),\n",
    "                                               class_mode='categorical',\n",
    "                                               shuffle=False,\n",
    "                                               seed=seed_value\n",
    "                                               )"
   ]
  },
  {
   "cell_type": "markdown",
   "metadata": {},
   "source": [
    "### 3.3 Transfer learning avec InceptionV3\n",
    "\n",
    "Commençons par charger le modèle de base pré-entraîné sur la base de données *Imagenet*, sans la partie supérieure de classification."
   ]
  },
  {
   "cell_type": "code",
   "execution_count": 29,
   "metadata": {},
   "outputs": [],
   "source": [
    "# Charger le modèle InceptionV3 pré-entraîné sans les couches supérieures\n",
    "base_model = InceptionV3(weights='imagenet', include_top=False, input_shape=(100, 100, 3))"
   ]
  },
  {
   "cell_type": "code",
   "execution_count": 30,
   "metadata": {},
   "outputs": [
    {
     "data": {
      "text/plain": [
       "311"
      ]
     },
     "execution_count": 30,
     "metadata": {},
     "output_type": "execute_result"
    }
   ],
   "source": [
    "n = len(base_model.layers)\n",
    "n"
   ]
  },
  {
   "cell_type": "markdown",
   "metadata": {},
   "source": [
    "Le modèle contient 311 couches. Nous allons toutes les geler à l'exception des 20 dernières que nous allons ré-entraîner :"
   ]
  },
  {
   "cell_type": "code",
   "execution_count": 31,
   "metadata": {},
   "outputs": [],
   "source": [
    "for layer in base_model.layers[:n-20]:\n",
    "    layer.trainable = False"
   ]
  },
  {
   "cell_type": "code",
   "execution_count": 32,
   "metadata": {},
   "outputs": [
    {
     "name": "stdout",
     "output_type": "stream",
     "text": [
      "Nombre de couches entraînables : 20\n"
     ]
    }
   ],
   "source": [
    "trainable_count = sum([layer.trainable for layer in base_model.layers])\n",
    "print(f\"Nombre de couches entraînables : {trainable_count}\")"
   ]
  },
  {
   "cell_type": "markdown",
   "metadata": {},
   "source": [
    "Il y a bien 20 couches entraînables.\n",
    "\n",
    "On ajoute au modèle de base une couche dense de classification à 1024 neurones et une couche dense de sortie à 5 neurones (une pour chaque classe) :"
   ]
  },
  {
   "cell_type": "code",
   "execution_count": 33,
   "metadata": {},
   "outputs": [],
   "source": [
    "# Ajout des couches de classification\n",
    "model = Sequential([base_model,\n",
    "                    Flatten(),\n",
    "                    Dense(1024, activation='relu'),\n",
    "                    Dense(5, activation='softmax')\n",
    "                   ])"
   ]
  },
  {
   "cell_type": "markdown",
   "metadata": {},
   "source": [
    "Nous allons utiliser l'optimiseur Nadam avec un learning_rate de 0.001 :"
   ]
  },
  {
   "cell_type": "code",
   "execution_count": 34,
   "metadata": {},
   "outputs": [],
   "source": [
    "# Compiler le modèle\n",
    "model.compile(optimizer=Nadam(learning_rate=0.001),\n",
    "              loss='categorical_crossentropy',\n",
    "              metrics=['accuracy'])"
   ]
  },
  {
   "cell_type": "code",
   "execution_count": 35,
   "metadata": {},
   "outputs": [
    {
     "name": "stdout",
     "output_type": "stream",
     "text": [
      "Model: \"sequential\"\n",
      "_________________________________________________________________\n",
      " Layer (type)                Output Shape              Param #   \n",
      "=================================================================\n",
      " inception_v3 (Functional)   (None, 1, 1, 2048)        21802784  \n",
      "                                                                 \n",
      " flatten (Flatten)           (None, 2048)              0         \n",
      "                                                                 \n",
      " dense (Dense)               (None, 1024)              2098176   \n",
      "                                                                 \n",
      " dense_1 (Dense)             (None, 5)                 5125      \n",
      "                                                                 \n",
      "=================================================================\n",
      "Total params: 23906085 (91.19 MB)\n",
      "Trainable params: 4038661 (15.41 MB)\n",
      "Non-trainable params: 19867424 (75.79 MB)\n",
      "_________________________________________________________________\n"
     ]
    }
   ],
   "source": [
    "model.summary()"
   ]
  },
  {
   "cell_type": "code",
   "execution_count": 36,
   "metadata": {},
   "outputs": [
    {
     "name": "stdout",
     "output_type": "stream",
     "text": [
      "Epoch 1/10\n",
      "2737/2737 [==============================] - 935s 339ms/step - loss: 0.1699 - accuracy: 0.9529 - val_loss: 0.1276 - val_accuracy: 0.9645 - lr: 0.0010\n",
      "Epoch 2/10\n",
      "2737/2737 [==============================] - 901s 329ms/step - loss: 0.1131 - accuracy: 0.9675 - val_loss: 0.1066 - val_accuracy: 0.9709 - lr: 0.0010\n",
      "Epoch 3/10\n",
      "2737/2737 [==============================] - 631s 231ms/step - loss: 0.0942 - accuracy: 0.9727 - val_loss: 0.1010 - val_accuracy: 0.9718 - lr: 0.0010\n",
      "Epoch 4/10\n",
      "2737/2737 [==============================] - 904s 330ms/step - loss: 0.0799 - accuracy: 0.9762 - val_loss: 0.1068 - val_accuracy: 0.9729 - lr: 0.0010\n",
      "Epoch 5/10\n",
      "2737/2737 [==============================] - 862s 315ms/step - loss: 0.0680 - accuracy: 0.9791 - val_loss: 0.1138 - val_accuracy: 0.9709 - lr: 0.0010\n",
      "Epoch 6/10\n",
      "2737/2737 [==============================] - 699s 255ms/step - loss: 0.0587 - accuracy: 0.9814 - val_loss: 0.1123 - val_accuracy: 0.9736 - lr: 0.0010\n",
      "Epoch 7/10\n",
      "2737/2737 [==============================] - 855s 313ms/step - loss: 0.0338 - accuracy: 0.9891 - val_loss: 0.1124 - val_accuracy: 0.9760 - lr: 5.0000e-04\n",
      "Epoch 8/10\n",
      "2737/2737 [==============================] - 900s 329ms/step - loss: 0.0273 - accuracy: 0.9907 - val_loss: 0.1165 - val_accuracy: 0.9761 - lr: 5.0000e-04\n",
      "Epoch 9/10\n",
      "2737/2737 [==============================] - 891s 325ms/step - loss: 0.0226 - accuracy: 0.9923 - val_loss: 0.1376 - val_accuracy: 0.9776 - lr: 5.0000e-04\n",
      "Epoch 10/10\n",
      "2737/2737 [==============================] - 901s 329ms/step - loss: 0.0131 - accuracy: 0.9955 - val_loss: 0.1418 - val_accuracy: 0.9767 - lr: 2.5000e-04\n"
     ]
    }
   ],
   "source": [
    "# Construction des callbacks\n",
    "early_stopping = EarlyStopping(monitor='val_loss', patience=10, restore_best_weights=True)\n",
    "reduce_lr = ReduceLROnPlateau(monitor='val_loss', factor=0.5, patience=3, min_lr=0.00001)\n",
    "\n",
    "# Entraîner le modèle\n",
    "history = model.fit(train_generator,\n",
    "                    validation_data=test_generator,\n",
    "                    callbacks=[early_stopping, reduce_lr],\n",
    "                    epochs=10)"
   ]
  },
  {
   "cell_type": "code",
   "execution_count": 37,
   "metadata": {},
   "outputs": [
    {
     "name": "stdout",
     "output_type": "stream",
     "text": [
      "685/685 [==============================] - 122s 175ms/step\n"
     ]
    }
   ],
   "source": [
    "predictions = model.predict(test_generator)\n",
    "y_pred = np.argmax(predictions, axis=1)"
   ]
  },
  {
   "cell_type": "code",
   "execution_count": 38,
   "metadata": {},
   "outputs": [],
   "source": [
    "# Obtenir les étiquettes réelles du générateur de test\n",
    "y_true = test_generator.classes"
   ]
  },
  {
   "cell_type": "code",
   "execution_count": 39,
   "metadata": {},
   "outputs": [
    {
     "name": "stdout",
     "output_type": "stream",
     "text": [
      "accuracy = 0.9767006258851478   precision = 0.9059380107444357   recall=0.865543218995261   f1 = 0.8837935666158441   ARI = 0.9183288537212184\n",
      "AUC-ROC = 0.9887442819733987\n"
     ]
    },
    {
     "data": {
      "image/png": "[encoded data removed]",
      "text/plain": [
       "<Figure size 1200x600 with 2 Axes>"
      ]
     },
     "metadata": {},
     "output_type": "display_data"
    }
   ],
   "source": [
    "metrics_display(y_true, y_pred, predictions)"
   ]
  },
  {
   "cell_type": "markdown",
   "metadata": {},
   "source": [
    "On observe que les résultats sont supérieurs à la baseline, notamment le recall qui est bien meilleur. Les classes S et F sont bien mieux classées.\n",
    "\n",
    "On enregistre le modèle localement :"
   ]
  },
  {
   "cell_type": "code",
   "execution_count": 41,
   "metadata": {},
   "outputs": [
    {
     "name": "stdout",
     "output_type": "stream",
     "text": [
      "INFO:tensorflow:Assets written to: inceptionv3_transfer_learning_tf/assets\n"
     ]
    },
    {
     "name": "stderr",
     "output_type": "stream",
     "text": [
      "INFO:tensorflow:Assets written to: inceptionv3_transfer_learning_tf/assets\n"
     ]
    }
   ],
   "source": [
    "model.save('../models/inceptionv3_transfer_learning.h5')\n",
    "model.save('../models/inceptionv3_transfer_learning_tf')\n",
    "model.save('../models/inceptionv3_transfer_learning.keras')"
   ]
  },
  {
   "cell_type": "markdown",
   "metadata": {},
   "source": [
    "### 3.4 Transfer learning avec EfficientNetV2"
   ]
  },
  {
   "cell_type": "code",
   "execution_count": 16,
   "metadata": {},
   "outputs": [],
   "source": [
    "# Charger le modèle EfficientNetV2 pré-entraîné sans les couches supérieures\n",
    "base_model = EfficientNetV2B3(weights='imagenet', include_top=False, input_shape=(100, 100, 3))"
   ]
  },
  {
   "cell_type": "code",
   "execution_count": 17,
   "metadata": {},
   "outputs": [
    {
     "data": {
      "text/plain": [
       "409"
      ]
     },
     "execution_count": 17,
     "metadata": {},
     "output_type": "execute_result"
    }
   ],
   "source": [
    "n = len(base_model.layers)\n",
    "n"
   ]
  },
  {
   "cell_type": "markdown",
   "metadata": {},
   "source": [
    "Le modèle contient 409 couches. Nous allons toutes les geler à l'exception des 20 dernières que nous allons ré-entraîner :"
   ]
  },
  {
   "cell_type": "code",
   "execution_count": 18,
   "metadata": {},
   "outputs": [],
   "source": [
    "for layer in base_model.layers[:n-20]:\n",
    "    layer.trainable = False"
   ]
  },
  {
   "cell_type": "code",
   "execution_count": 19,
   "metadata": {},
   "outputs": [
    {
     "name": "stdout",
     "output_type": "stream",
     "text": [
      "Nombre de couches entraînables : 20\n"
     ]
    }
   ],
   "source": [
    "trainable_count = sum([layer.trainable for layer in base_model.layers])\n",
    "print(f\"Nombre de couches entraînables : {trainable_count}\")"
   ]
  },
  {
   "cell_type": "markdown",
   "metadata": {},
   "source": [
    "Il y a bien 20 couches entraînables.\n",
    "\n",
    "On ajoute au modèle de base une couche dense de classification à 1024 neurones et une couche dense de sortie à 5 neurones (une pour chaque classe) :"
   ]
  },
  {
   "cell_type": "code",
   "execution_count": 20,
   "metadata": {},
   "outputs": [],
   "source": [
    "# Ajout des couches de classification\n",
    "model = Sequential([base_model,\n",
    "                    GlobalAveragePooling2D(),\n",
    "                    Dense(1024, activation='relu'),\n",
    "                    Dense(5, activation='softmax')\n",
    "                   ])"
   ]
  },
  {
   "cell_type": "code",
   "execution_count": 21,
   "metadata": {},
   "outputs": [],
   "source": [
    "# Compiler le modèle\n",
    "model.compile(optimizer=Nadam(learning_rate=0.001),\n",
    "              loss='categorical_crossentropy',\n",
    "              metrics=['accuracy'])"
   ]
  },
  {
   "cell_type": "code",
   "execution_count": 22,
   "metadata": {},
   "outputs": [
    {
     "name": "stdout",
     "output_type": "stream",
     "text": [
      "Model: \"sequential\"\n",
      "_________________________________________________________________\n",
      " Layer (type)                Output Shape              Param #   \n",
      "=================================================================\n",
      " efficientnetv2-b3 (Functio  (None, 4, 4, 1536)        12930622  \n",
      " nal)                                                            \n",
      "                                                                 \n",
      " global_average_pooling2d (  (None, 1536)              0         \n",
      " GlobalAveragePooling2D)                                         \n",
      "                                                                 \n",
      " dense (Dense)               (None, 1024)              1573888   \n",
      "                                                                 \n",
      " dense_1 (Dense)             (None, 5)                 5125      \n",
      "                                                                 \n",
      "=================================================================\n",
      "Total params: 14509635 (55.35 MB)\n",
      "Trainable params: 2765807 (10.55 MB)\n",
      "Non-trainable params: 11743828 (44.80 MB)\n",
      "_________________________________________________________________\n"
     ]
    }
   ],
   "source": [
    "model.summary()"
   ]
  },
  {
   "cell_type": "code",
   "execution_count": 23,
   "metadata": {},
   "outputs": [
    {
     "name": "stdout",
     "output_type": "stream",
     "text": [
      "Epoch 1/10\n",
      "2737/2737 [==============================] - 1087s 392ms/step - loss: 0.4155 - accuracy: 0.8840 - val_loss: 0.2598 - val_accuracy: 0.9274 - lr: 0.0010\n",
      "Epoch 2/10\n",
      "2737/2737 [==============================] - 1289s 471ms/step - loss: 0.3191 - accuracy: 0.9105 - val_loss: 0.2881 - val_accuracy: 0.9221 - lr: 0.0010\n",
      "Epoch 3/10\n",
      "2737/2737 [==============================] - 1790s 654ms/step - loss: 0.2881 - accuracy: 0.9194 - val_loss: 0.2476 - val_accuracy: 0.9340 - lr: 0.0010\n",
      "Epoch 4/10\n",
      "2737/2737 [==============================] - 1798s 657ms/step - loss: 0.2672 - accuracy: 0.9242 - val_loss: 0.2211 - val_accuracy: 0.9391 - lr: 0.0010\n",
      "Epoch 5/10\n",
      "2737/2737 [==============================] - 1789s 654ms/step - loss: 0.2515 - accuracy: 0.9275 - val_loss: 0.2245 - val_accuracy: 0.9384 - lr: 0.0010\n",
      "Epoch 6/10\n",
      "2737/2737 [==============================] - 1427s 521ms/step - loss: 0.2382 - accuracy: 0.9321 - val_loss: 0.1931 - val_accuracy: 0.9495 - lr: 0.0010\n",
      "Epoch 7/10\n",
      "2737/2737 [==============================] - 1658s 606ms/step - loss: 0.2294 - accuracy: 0.9337 - val_loss: 0.1633 - val_accuracy: 0.9553 - lr: 0.0010\n",
      "Epoch 8/10\n",
      "2737/2737 [==============================] - 1238s 452ms/step - loss: 0.2223 - accuracy: 0.9356 - val_loss: 0.2010 - val_accuracy: 0.9398 - lr: 0.0010\n",
      "Epoch 9/10\n",
      "2737/2737 [==============================] - 1074s 393ms/step - loss: 0.2142 - accuracy: 0.9367 - val_loss: 0.1764 - val_accuracy: 0.9497 - lr: 0.0010\n",
      "Epoch 10/10\n",
      "2737/2737 [==============================] - 1074s 393ms/step - loss: 0.2092 - accuracy: 0.9381 - val_loss: 0.2064 - val_accuracy: 0.9416 - lr: 0.0010\n"
     ]
    }
   ],
   "source": [
    "# Construction des callbacks\n",
    "early_stopping = EarlyStopping(monitor='val_loss', patience=10, restore_best_weights=True)\n",
    "reduce_lr = ReduceLROnPlateau(monitor='val_loss', factor=0.5, patience=3, min_lr=0.00001)\n",
    "\n",
    "# Entraîner le modèle\n",
    "history = model.fit(train_generator,\n",
    "                    validation_data=test_generator,\n",
    "                    callbacks=[early_stopping, reduce_lr],\n",
    "                    epochs=10)"
   ]
  },
  {
   "cell_type": "code",
   "execution_count": 24,
   "metadata": {},
   "outputs": [
    {
     "name": "stdout",
     "output_type": "stream",
     "text": [
      "685/685 [==============================] - 294s 425ms/step\n"
     ]
    }
   ],
   "source": [
    "predictions = model.predict(test_generator)\n",
    "y_pred = np.argmax(predictions, axis=1)"
   ]
  },
  {
   "cell_type": "code",
   "execution_count": 25,
   "metadata": {},
   "outputs": [],
   "source": [
    "# Obtenir les étiquettes réelles du générateur de test\n",
    "y_true = test_generator.classes"
   ]
  },
  {
   "cell_type": "code",
   "execution_count": 26,
   "metadata": {},
   "outputs": [
    {
     "name": "stdout",
     "output_type": "stream",
     "text": [
      "accuracy = 0.9416145095710174   precision = 0.8774061707665712   recall=0.6408168424485494   f1 = 0.6825452723112602   ARI = 0.7740204362182196\n",
      "AUC-ROC = 0.9565259335414315\n"
     ]
    },
    {
     "data": {
      "image/png": "[encoded data removed]",
      "text/plain": [
       "<Figure size 1200x600 with 2 Axes>"
      ]
     },
     "metadata": {},
     "output_type": "display_data"
    }
   ],
   "source": [
    "metrics_display(y_true, y_pred, predictions)"
   ]
  },
  {
   "cell_type": "markdown",
   "metadata": {},
   "source": [
    "On enregistre le modèle localement puis dans Mlflow :"
   ]
  },
  {
   "cell_type": "code",
   "execution_count": 27,
   "metadata": {},
   "outputs": [
    {
     "name": "stderr",
     "output_type": "stream",
     "text": [
      "/home/chakir/Bureau/PROJETS/Projet7/env/lib/python3.10/site-packages/keras/src/engine/training.py:3103: UserWarning: You are saving your model as an HDF5 file via `model.save()`. This file format is considered legacy. We recommend using instead the native Keras format, e.g. `model.save('my_model.keras')`.\n",
      "  saving_api.save_model(\n",
      "WARNING:absl:`efficientnetv2-b3_input` is not a valid tf.function parameter name. Sanitizing to `efficientnetv2_b3_input`.\n",
      "WARNING:absl:`efficientnetv2-b3_input` is not a valid tf.function parameter name. Sanitizing to `efficientnetv2_b3_input`.\n",
      "WARNING:absl:`efficientnetv2-b3_input` is not a valid tf.function parameter name. Sanitizing to `efficientnetv2_b3_input`.\n"
     ]
    },
    {
     "name": "stdout",
     "output_type": "stream",
     "text": [
      "INFO:tensorflow:Assets written to: efficientnetv2_transfer_learning_tf/assets\n"
     ]
    },
    {
     "name": "stderr",
     "output_type": "stream",
     "text": [
      "INFO:tensorflow:Assets written to: efficientnetv2_transfer_learning_tf/assets\n"
     ]
    }
   ],
   "source": [
    "model.save('../models/efficientnetv2_transfer_learning.h5')\n",
    "model.save('../models/efficientnetv2_transfer_learning_tf')\n",
    "model.save('../models/efficientnetv2_transfer_learning.keras')"
   ]
  },
  {
   "cell_type": "markdown",
   "metadata": {},
   "source": [
    "## 4. LSTM et InceptionTime\n",
    "\n",
    "### 4.1 Préparation des données\n",
    "\n",
    "Commençons par redimensionner les données pour les adapter à un LSTM. Actuellement, chaque série temporelle a une longueur de 187. Nous allons découper chaque série en sous-séries de longueur 32 (sauf la dernière qui aura une longueur de 27)."
   ]
  },
  {
   "cell_type": "code",
   "execution_count": 50,
   "metadata": {},
   "outputs": [],
   "source": [
    "# Longueur de la séquence (timesteps)\n",
    "timesteps = 32\n",
    "\n",
    "# Créer des sous-séquences\n",
    "def create_subsequences(X, timesteps):\n",
    "    timelist = range(0, 32*int(187/timesteps), timesteps)\n",
    "    subsequences = []\n",
    "    for i in timelist:\n",
    "        subsequences.append(X[:, i:i+timesteps])\n",
    "    subsequences = np.transpose(subsequences, (1, 2, 0))        \n",
    "    return np.array(subsequences)"
   ]
  },
  {
   "cell_type": "code",
   "execution_count": 51,
   "metadata": {},
   "outputs": [],
   "source": [
    "X_train_lstm = create_subsequences(X_train.values, timesteps)\n",
    "X_test_lstm = create_subsequences(X_test.values, timesteps)"
   ]
  },
  {
   "cell_type": "code",
   "execution_count": 53,
   "metadata": {},
   "outputs": [],
   "source": [
    "# Encodage One_hot des variables cibles\n",
    "y_train_lstm = to_categorical(y_train)\n",
    "y_test_lstm = to_categorical(y_test)"
   ]
  },
  {
   "cell_type": "code",
   "execution_count": 54,
   "metadata": {},
   "outputs": [
    {
     "data": {
      "text/plain": [
       "((87555, 32, 5), (87555, 5))"
      ]
     },
     "execution_count": 54,
     "metadata": {},
     "output_type": "execute_result"
    }
   ],
   "source": [
    "X_train_lstm.shape, y_train_lstm.shape"
   ]
  },
  {
   "cell_type": "markdown",
   "metadata": {},
   "source": [
    "### 4.2 LSTM"
   ]
  },
  {
   "cell_type": "code",
   "execution_count": 55,
   "metadata": {},
   "outputs": [],
   "source": [
    "# Ajout des couches de classification\n",
    "model = Sequential([LSTM(50, activation='relu', input_shape=(timesteps, 5)),\n",
    "                    Dense(512, activation='relu'),\n",
    "                    Dense(5, activation='softmax')\n",
    "                   ])"
   ]
  },
  {
   "cell_type": "code",
   "execution_count": 56,
   "metadata": {},
   "outputs": [],
   "source": [
    "# Compiler le modèle\n",
    "model.compile(optimizer=Nadam(learning_rate=0.001),\n",
    "              loss='categorical_crossentropy',\n",
    "              metrics=['accuracy'])"
   ]
  },
  {
   "cell_type": "code",
   "execution_count": 57,
   "metadata": {},
   "outputs": [
    {
     "name": "stdout",
     "output_type": "stream",
     "text": [
      "Model: \"sequential_1\"\n",
      "_________________________________________________________________\n",
      " Layer (type)                Output Shape              Param #   \n",
      "=================================================================\n",
      " lstm (LSTM)                 (None, 50)                11200     \n",
      "                                                                 \n",
      " dense_2 (Dense)             (None, 512)               26112     \n",
      "                                                                 \n",
      " dense_3 (Dense)             (None, 5)                 2565      \n",
      "                                                                 \n",
      "=================================================================\n",
      "Total params: 39877 (155.77 KB)\n",
      "Trainable params: 39877 (155.77 KB)\n",
      "Non-trainable params: 0 (0.00 Byte)\n",
      "_________________________________________________________________\n"
     ]
    }
   ],
   "source": [
    "model.summary()"
   ]
  },
  {
   "cell_type": "code",
   "execution_count": 58,
   "metadata": {},
   "outputs": [
    {
     "name": "stdout",
     "output_type": "stream",
     "text": [
      "Epoch 1/10\n",
      "2737/2737 [==============================] - 41s 14ms/step - loss: 0.3005 - accuracy: 0.9191 - val_loss: 0.2257 - val_accuracy: 0.9365 - lr: 0.0010\n",
      "Epoch 2/10\n",
      "2737/2737 [==============================] - 40s 15ms/step - loss: 0.1923 - accuracy: 0.9477 - val_loss: 0.1981 - val_accuracy: 0.9468 - lr: 0.0010\n",
      "Epoch 3/10\n",
      "2737/2737 [==============================] - 38s 14ms/step - loss: 0.1652 - accuracy: 0.9544 - val_loss: 0.1599 - val_accuracy: 0.9560 - lr: 0.0010\n",
      "Epoch 4/10\n",
      "2737/2737 [==============================] - 39s 14ms/step - loss: 0.1490 - accuracy: 0.9589 - val_loss: 0.1458 - val_accuracy: 0.9601 - lr: 0.0010\n",
      "Epoch 5/10\n",
      "2737/2737 [==============================] - 39s 14ms/step - loss: 0.1334 - accuracy: 0.9630 - val_loss: 0.1223 - val_accuracy: 0.9668 - lr: 0.0010\n",
      "Epoch 6/10\n",
      "2737/2737 [==============================] - 39s 14ms/step - loss: 0.1236 - accuracy: 0.9661 - val_loss: 0.1251 - val_accuracy: 0.9651 - lr: 0.0010\n",
      "Epoch 7/10\n",
      "2737/2737 [==============================] - 40s 15ms/step - loss: 0.1144 - accuracy: 0.9682 - val_loss: 0.1161 - val_accuracy: 0.9687 - lr: 0.0010\n",
      "Epoch 8/10\n",
      "2737/2737 [==============================] - 41s 15ms/step - loss: 0.1070 - accuracy: 0.9696 - val_loss: 0.1074 - val_accuracy: 0.9706 - lr: 0.0010\n",
      "Epoch 9/10\n",
      "2737/2737 [==============================] - 39s 14ms/step - loss: 0.1015 - accuracy: 0.9719 - val_loss: 0.1164 - val_accuracy: 0.9684 - lr: 0.0010\n",
      "Epoch 10/10\n",
      "2737/2737 [==============================] - 40s 15ms/step - loss: 0.0973 - accuracy: 0.9718 - val_loss: 0.1136 - val_accuracy: 0.9676 - lr: 0.0010\n"
     ]
    }
   ],
   "source": [
    "# Construction des callbacks\n",
    "early_stopping = EarlyStopping(monitor='val_loss', patience=10, restore_best_weights=True)\n",
    "reduce_lr = ReduceLROnPlateau(monitor='val_loss', factor=0.5, patience=3, min_lr=0.00001)\n",
    "\n",
    "# Entraîner le modèle\n",
    "history = model.fit(X_train_lstm, y_train_lstm,\n",
    "                    validation_data=(X_test_lstm, y_test_lstm),\n",
    "                    callbacks=[early_stopping, reduce_lr],\n",
    "                    epochs=10)"
   ]
  },
  {
   "cell_type": "code",
   "execution_count": 59,
   "metadata": {},
   "outputs": [
    {
     "name": "stdout",
     "output_type": "stream",
     "text": [
      "685/685 [==============================] - 4s 6ms/step\n"
     ]
    }
   ],
   "source": [
    "predictions = model.predict(X_test_lstm)\n",
    "y_pred = np.argmax(predictions, axis=1)"
   ]
  },
  {
   "cell_type": "code",
   "execution_count": 60,
   "metadata": {},
   "outputs": [
    {
     "name": "stdout",
     "output_type": "stream",
     "text": [
      "accuracy = 0.9676093014756271   precision = 0.9097655121944987   recall=0.79164679225016   f1 = 0.8309177944763949   ARI = 0.8858330684184192\n",
      "AUC-ROC = 0.9831137905610614\n"
     ]
    },
    {
     "data": {
      "image/png": "[encoded data removed]",
      "text/plain": [
       "<Figure size 1200x600 with 2 Axes>"
      ]
     },
     "metadata": {},
     "output_type": "display_data"
    }
   ],
   "source": [
    "metrics_display(y_test, y_pred, predictions)"
   ]
  },
  {
   "cell_type": "code",
   "execution_count": 61,
   "metadata": {},
   "outputs": [],
   "source": [
    "# Ajout des couches de classification\n",
    "model = Sequential([LSTM(128, activation='relu', return_sequences=True, input_shape=(timesteps, 5)),\n",
    "                    LSTM(128, activation='relu'),\n",
    "                    Dense(1024, activation='relu'),\n",
    "                    Dense(5, activation='softmax')\n",
    "                   ])"
   ]
  },
  {
   "cell_type": "code",
   "execution_count": 62,
   "metadata": {},
   "outputs": [],
   "source": [
    "# Compiler le modèle\n",
    "model.compile(optimizer=Nadam(learning_rate=0.001),\n",
    "              loss='categorical_crossentropy',\n",
    "              metrics=['accuracy'])"
   ]
  },
  {
   "cell_type": "code",
   "execution_count": 63,
   "metadata": {},
   "outputs": [
    {
     "name": "stdout",
     "output_type": "stream",
     "text": [
      "Model: \"sequential_2\"\n",
      "_________________________________________________________________\n",
      " Layer (type)                Output Shape              Param #   \n",
      "=================================================================\n",
      " lstm_1 (LSTM)               (None, 32, 128)           68608     \n",
      "                                                                 \n",
      " lstm_2 (LSTM)               (None, 128)               131584    \n",
      "                                                                 \n",
      " dense_4 (Dense)             (None, 1024)              132096    \n",
      "                                                                 \n",
      " dense_5 (Dense)             (None, 5)                 5125      \n",
      "                                                                 \n",
      "=================================================================\n",
      "Total params: 337413 (1.29 MB)\n",
      "Trainable params: 337413 (1.29 MB)\n",
      "Non-trainable params: 0 (0.00 Byte)\n",
      "_________________________________________________________________\n"
     ]
    }
   ],
   "source": [
    "model.summary()"
   ]
  },
  {
   "cell_type": "code",
   "execution_count": 64,
   "metadata": {},
   "outputs": [
    {
     "name": "stdout",
     "output_type": "stream",
     "text": [
      "Epoch 1/20\n",
      "2737/2737 [==============================] - 162s 58ms/step - loss: 0.2721 - accuracy: 0.9281 - val_loss: 0.1798 - val_accuracy: 0.9507 - lr: 0.0010\n",
      "Epoch 2/20\n",
      "2737/2737 [==============================] - 176s 64ms/step - loss: 0.1623 - accuracy: 0.9555 - val_loss: 0.1584 - val_accuracy: 0.9583 - lr: 0.0010\n",
      "Epoch 3/20\n",
      "2737/2737 [==============================] - 172s 63ms/step - loss: 0.1332 - accuracy: 0.9637 - val_loss: 0.1214 - val_accuracy: 0.9660 - lr: 0.0010\n",
      "Epoch 4/20\n",
      "2737/2737 [==============================] - 176s 64ms/step - loss: 0.1159 - accuracy: 0.9673 - val_loss: 0.1202 - val_accuracy: 0.9649 - lr: 0.0010\n",
      "Epoch 5/20\n",
      "2737/2737 [==============================] - 176s 64ms/step - loss: 0.1049 - accuracy: 0.9707 - val_loss: 0.1072 - val_accuracy: 0.9698 - lr: 0.0010\n",
      "Epoch 6/20\n",
      "2737/2737 [==============================] - 173s 63ms/step - loss: 0.0966 - accuracy: 0.9727 - val_loss: 0.0983 - val_accuracy: 0.9723 - lr: 0.0010\n",
      "Epoch 7/20\n",
      "2737/2737 [==============================] - 132s 48ms/step - loss: 0.0899 - accuracy: 0.9743 - val_loss: 0.0865 - val_accuracy: 0.9766 - lr: 0.0010\n",
      "Epoch 8/20\n",
      "2737/2737 [==============================] - 178s 65ms/step - loss: 0.0826 - accuracy: 0.9761 - val_loss: 0.0859 - val_accuracy: 0.9767 - lr: 0.0010\n",
      "Epoch 9/20\n",
      "2737/2737 [==============================] - 180s 66ms/step - loss: 0.0778 - accuracy: 0.9772 - val_loss: 0.0836 - val_accuracy: 0.9757 - lr: 0.0010\n",
      "Epoch 10/20\n",
      "2737/2737 [==============================] - 181s 66ms/step - loss: 0.0834 - accuracy: 0.9761 - val_loss: 0.0888 - val_accuracy: 0.9763 - lr: 0.0010\n",
      "Epoch 11/20\n",
      "2737/2737 [==============================] - 157s 57ms/step - loss: 0.0718 - accuracy: 0.9790 - val_loss: 0.0761 - val_accuracy: 0.9772 - lr: 0.0010\n",
      "Epoch 12/20\n",
      "2737/2737 [==============================] - 180s 66ms/step - loss: 0.0664 - accuracy: 0.9800 - val_loss: 0.0797 - val_accuracy: 0.9793 - lr: 0.0010\n",
      "Epoch 13/20\n",
      "2737/2737 [==============================] - 180s 66ms/step - loss: 0.0653 - accuracy: 0.9803 - val_loss: 0.0783 - val_accuracy: 0.9781 - lr: 0.0010\n",
      "Epoch 14/20\n",
      "2737/2737 [==============================] - 180s 66ms/step - loss: 0.1285 - accuracy: 0.9753 - val_loss: 0.1804 - val_accuracy: 0.9529 - lr: 0.0010\n",
      "Epoch 15/20\n",
      "2737/2737 [==============================] - 179s 66ms/step - loss: 0.1149 - accuracy: 0.9676 - val_loss: 0.0935 - val_accuracy: 0.9740 - lr: 5.0000e-04\n",
      "Epoch 16/20\n",
      "2737/2737 [==============================] - 180s 66ms/step - loss: 0.0717 - accuracy: 0.9789 - val_loss: 0.0813 - val_accuracy: 0.9775 - lr: 5.0000e-04\n",
      "Epoch 17/20\n",
      "2737/2737 [==============================] - 179s 65ms/step - loss: 0.0566 - accuracy: 0.9824 - val_loss: 0.0764 - val_accuracy: 0.9795 - lr: 5.0000e-04\n",
      "Epoch 18/20\n",
      "2737/2737 [==============================] - 186s 68ms/step - loss: 0.0441 - accuracy: 0.9859 - val_loss: 0.0688 - val_accuracy: 0.9817 - lr: 2.5000e-04\n",
      "Epoch 19/20\n",
      "2737/2737 [==============================] - 183s 67ms/step - loss: 0.0406 - accuracy: 0.9868 - val_loss: 0.0697 - val_accuracy: 0.9813 - lr: 2.5000e-04\n",
      "Epoch 20/20\n",
      "2737/2737 [==============================] - 184s 67ms/step - loss: 0.0382 - accuracy: 0.9875 - val_loss: 0.0724 - val_accuracy: 0.9821 - lr: 2.5000e-04\n"
     ]
    }
   ],
   "source": [
    "# Construction des callbacks\n",
    "early_stopping = EarlyStopping(monitor='val_loss', patience=10, restore_best_weights=True)\n",
    "reduce_lr = ReduceLROnPlateau(monitor='val_loss', factor=0.5, patience=3, min_lr=0.00001)\n",
    "\n",
    "# Entraîner le modèle\n",
    "history = model.fit(X_train_lstm, y_train_lstm,\n",
    "                    validation_data=(X_test_lstm, y_test_lstm),\n",
    "                    callbacks=[early_stopping, reduce_lr],\n",
    "                    epochs=20)"
   ]
  },
  {
   "cell_type": "code",
   "execution_count": 65,
   "metadata": {},
   "outputs": [
    {
     "name": "stdout",
     "output_type": "stream",
     "text": [
      "685/685 [==============================] - 15s 21ms/step\n"
     ]
    }
   ],
   "source": [
    "predictions = model.predict(X_test_lstm)\n",
    "y_pred = np.argmax(predictions, axis=1)"
   ]
  },
  {
   "cell_type": "code",
   "execution_count": 66,
   "metadata": {},
   "outputs": [
    {
     "name": "stdout",
     "output_type": "stream",
     "text": [
      "accuracy = 0.9820914614646626   precision = 0.9535595945141058   recall=0.8518074685678897   f1 = 0.893305726296316   ARI = 0.9354684867238802\n",
      "AUC-ROC = 0.9924947996303747\n"
     ]
    },
    {
     "data": {
      "image/png": "[encoded data removed]",
      "text/plain": [
       "<Figure size 1200x600 with 2 Axes>"
      ]
     },
     "metadata": {},
     "output_type": "display_data"
    }
   ],
   "source": [
    "metrics_display(y_test, y_pred, predictions)"
   ]
  },
  {
   "cell_type": "markdown",
   "metadata": {},
   "source": [
    "### 4.3 InceptionTime"
   ]
  },
  {
   "cell_type": "code",
   "execution_count": 67,
   "metadata": {},
   "outputs": [],
   "source": [
    "from tensorflow.keras.layers import Conv1D, BatchNormalization, Activation, Concatenate, MaxPooling1D, Input, GlobalAveragePooling1D\n",
    "from tensorflow.keras.models import Model"
   ]
  },
  {
   "cell_type": "code",
   "execution_count": 68,
   "metadata": {},
   "outputs": [],
   "source": [
    "def inception_module(input_tensor, filters):\n",
    "    # Branche 1 - Conv 1x1\n",
    "    conv1 = Conv1D(filters=filters, kernel_size=1, padding='same')(input_tensor)\n",
    "    conv1 = BatchNormalization()(conv1)\n",
    "    conv1 = Activation('relu')(conv1)\n",
    "\n",
    "    # Branche 2 - Conv 3x3\n",
    "    conv3 = Conv1D(filters=filters, kernel_size=3, padding='same')(input_tensor)\n",
    "    conv3 = BatchNormalization()(conv3)\n",
    "    conv3 = Activation('relu')(conv3)\n",
    "\n",
    "    # Branche 3 - Conv 5x5\n",
    "    conv5 = Conv1D(filters=filters, kernel_size=5, padding='same')(input_tensor)\n",
    "    conv5 = BatchNormalization()(conv5)\n",
    "    conv5 = Activation('relu')(conv5)\n",
    "\n",
    "    # Branche 4 - MaxPooling suivi d'une Conv 1x1\n",
    "    pool = MaxPooling1D(pool_size=3, strides=1, padding='same')(input_tensor)\n",
    "    pool = Conv1D(filters=filters, kernel_size=1, padding='same')(pool)\n",
    "    pool = BatchNormalization()(pool)\n",
    "    pool = Activation('relu')(pool)\n",
    "\n",
    "    # Concatenation de toutes les branches\n",
    "    output = Concatenate()([conv1, conv3, conv5, pool])\n",
    "    \n",
    "    return output"
   ]
  },
  {
   "cell_type": "code",
   "execution_count": 88,
   "metadata": {},
   "outputs": [],
   "source": [
    "def build_inceptiontime_model(input_shape, num_classes):\n",
    "    input_layer = Input(shape=input_shape)\n",
    "    \n",
    "    # Empiler plusieurs modules Inception\n",
    "    x = inception_module(input_layer, filters=32)\n",
    "    x = inception_module(x, filters=32)\n",
    "    x = inception_module(x, filters=32)\n",
    "    \n",
    "    # Ajout des couches de classification\n",
    "    x = GlobalAveragePooling1D()(x)\n",
    "    x = Dense(1024, activation='relu')(x)\n",
    "    output_layer = Dense(num_classes, activation='softmax')(x)\n",
    "    \n",
    "    # Construction du modèle complet\n",
    "    model = Model(inputs=input_layer, outputs=output_layer)\n",
    "    \n",
    "    return model"
   ]
  },
  {
   "cell_type": "code",
   "execution_count": 89,
   "metadata": {},
   "outputs": [],
   "source": [
    "input_shape = (32, 5)\n",
    "num_classes = 5\n",
    "\n",
    "model = build_inceptiontime_model(input_shape, num_classes)"
   ]
  },
  {
   "cell_type": "code",
   "execution_count": 90,
   "metadata": {},
   "outputs": [],
   "source": [
    "# Compiler le modèle\n",
    "model.compile(optimizer=Nadam(learning_rate=0.001),\n",
    "              loss='categorical_crossentropy',\n",
    "              metrics=['accuracy'])"
   ]
  },
  {
   "cell_type": "code",
   "execution_count": 91,
   "metadata": {},
   "outputs": [
    {
     "name": "stdout",
     "output_type": "stream",
     "text": [
      "Model: \"model_2\"\n",
      "__________________________________________________________________________________________________\n",
      " Layer (type)                Output Shape                 Param #   Connected to                  \n",
      "==================================================================================================\n",
      " input_5 (InputLayer)        [(None, 32, 5)]              0         []                            \n",
      "                                                                                                  \n",
      " max_pooling1d_9 (MaxPoolin  (None, 32, 5)                0         ['input_5[0][0]']             \n",
      " g1D)                                                                                             \n",
      "                                                                                                  \n",
      " conv1d_36 (Conv1D)          (None, 32, 32)               192       ['input_5[0][0]']             \n",
      "                                                                                                  \n",
      " conv1d_37 (Conv1D)          (None, 32, 32)               512       ['input_5[0][0]']             \n",
      "                                                                                                  \n",
      " conv1d_38 (Conv1D)          (None, 32, 32)               832       ['input_5[0][0]']             \n",
      "                                                                                                  \n",
      " conv1d_39 (Conv1D)          (None, 32, 32)               192       ['max_pooling1d_9[0][0]']     \n",
      "                                                                                                  \n",
      " batch_normalization_36 (Ba  (None, 32, 32)               128       ['conv1d_36[0][0]']           \n",
      " tchNormalization)                                                                                \n",
      "                                                                                                  \n",
      " batch_normalization_37 (Ba  (None, 32, 32)               128       ['conv1d_37[0][0]']           \n",
      " tchNormalization)                                                                                \n",
      "                                                                                                  \n",
      " batch_normalization_38 (Ba  (None, 32, 32)               128       ['conv1d_38[0][0]']           \n",
      " tchNormalization)                                                                                \n",
      "                                                                                                  \n",
      " batch_normalization_39 (Ba  (None, 32, 32)               128       ['conv1d_39[0][0]']           \n",
      " tchNormalization)                                                                                \n",
      "                                                                                                  \n",
      " activation_36 (Activation)  (None, 32, 32)               0         ['batch_normalization_36[0][0]\n",
      "                                                                    ']                            \n",
      "                                                                                                  \n",
      " activation_37 (Activation)  (None, 32, 32)               0         ['batch_normalization_37[0][0]\n",
      "                                                                    ']                            \n",
      "                                                                                                  \n",
      " activation_38 (Activation)  (None, 32, 32)               0         ['batch_normalization_38[0][0]\n",
      "                                                                    ']                            \n",
      "                                                                                                  \n",
      " activation_39 (Activation)  (None, 32, 32)               0         ['batch_normalization_39[0][0]\n",
      "                                                                    ']                            \n",
      "                                                                                                  \n",
      " concatenate_9 (Concatenate  (None, 32, 128)              0         ['activation_36[0][0]',       \n",
      " )                                                                   'activation_37[0][0]',       \n",
      "                                                                     'activation_38[0][0]',       \n",
      "                                                                     'activation_39[0][0]']       \n",
      "                                                                                                  \n",
      " max_pooling1d_10 (MaxPooli  (None, 32, 128)              0         ['concatenate_9[0][0]']       \n",
      " ng1D)                                                                                            \n",
      "                                                                                                  \n",
      " conv1d_40 (Conv1D)          (None, 32, 32)               4128      ['concatenate_9[0][0]']       \n",
      "                                                                                                  \n",
      " conv1d_41 (Conv1D)          (None, 32, 32)               12320     ['concatenate_9[0][0]']       \n",
      "                                                                                                  \n",
      " conv1d_42 (Conv1D)          (None, 32, 32)               20512     ['concatenate_9[0][0]']       \n",
      "                                                                                                  \n",
      " conv1d_43 (Conv1D)          (None, 32, 32)               4128      ['max_pooling1d_10[0][0]']    \n",
      "                                                                                                  \n",
      " batch_normalization_40 (Ba  (None, 32, 32)               128       ['conv1d_40[0][0]']           \n",
      " tchNormalization)                                                                                \n",
      "                                                                                                  \n",
      " batch_normalization_41 (Ba  (None, 32, 32)               128       ['conv1d_41[0][0]']           \n",
      " tchNormalization)                                                                                \n",
      "                                                                                                  \n",
      " batch_normalization_42 (Ba  (None, 32, 32)               128       ['conv1d_42[0][0]']           \n",
      " tchNormalization)                                                                                \n",
      "                                                                                                  \n",
      " batch_normalization_43 (Ba  (None, 32, 32)               128       ['conv1d_43[0][0]']           \n",
      " tchNormalization)                                                                                \n",
      "                                                                                                  \n",
      " activation_40 (Activation)  (None, 32, 32)               0         ['batch_normalization_40[0][0]\n",
      "                                                                    ']                            \n",
      "                                                                                                  \n",
      " activation_41 (Activation)  (None, 32, 32)               0         ['batch_normalization_41[0][0]\n",
      "                                                                    ']                            \n",
      "                                                                                                  \n",
      " activation_42 (Activation)  (None, 32, 32)               0         ['batch_normalization_42[0][0]\n",
      "                                                                    ']                            \n",
      "                                                                                                  \n",
      " activation_43 (Activation)  (None, 32, 32)               0         ['batch_normalization_43[0][0]\n",
      "                                                                    ']                            \n",
      "                                                                                                  \n",
      " concatenate_10 (Concatenat  (None, 32, 128)              0         ['activation_40[0][0]',       \n",
      " e)                                                                  'activation_41[0][0]',       \n",
      "                                                                     'activation_42[0][0]',       \n",
      "                                                                     'activation_43[0][0]']       \n",
      "                                                                                                  \n",
      " max_pooling1d_11 (MaxPooli  (None, 32, 128)              0         ['concatenate_10[0][0]']      \n",
      " ng1D)                                                                                            \n",
      "                                                                                                  \n",
      " conv1d_44 (Conv1D)          (None, 32, 32)               4128      ['concatenate_10[0][0]']      \n",
      "                                                                                                  \n",
      " conv1d_45 (Conv1D)          (None, 32, 32)               12320     ['concatenate_10[0][0]']      \n",
      "                                                                                                  \n",
      " conv1d_46 (Conv1D)          (None, 32, 32)               20512     ['concatenate_10[0][0]']      \n",
      "                                                                                                  \n",
      " conv1d_47 (Conv1D)          (None, 32, 32)               4128      ['max_pooling1d_11[0][0]']    \n",
      "                                                                                                  \n",
      " batch_normalization_44 (Ba  (None, 32, 32)               128       ['conv1d_44[0][0]']           \n",
      " tchNormalization)                                                                                \n",
      "                                                                                                  \n",
      " batch_normalization_45 (Ba  (None, 32, 32)               128       ['conv1d_45[0][0]']           \n",
      " tchNormalization)                                                                                \n",
      "                                                                                                  \n",
      " batch_normalization_46 (Ba  (None, 32, 32)               128       ['conv1d_46[0][0]']           \n",
      " tchNormalization)                                                                                \n",
      "                                                                                                  \n",
      " batch_normalization_47 (Ba  (None, 32, 32)               128       ['conv1d_47[0][0]']           \n",
      " tchNormalization)                                                                                \n",
      "                                                                                                  \n",
      " activation_44 (Activation)  (None, 32, 32)               0         ['batch_normalization_44[0][0]\n",
      "                                                                    ']                            \n",
      "                                                                                                  \n",
      " activation_45 (Activation)  (None, 32, 32)               0         ['batch_normalization_45[0][0]\n",
      "                                                                    ']                            \n",
      "                                                                                                  \n",
      " activation_46 (Activation)  (None, 32, 32)               0         ['batch_normalization_46[0][0]\n",
      "                                                                    ']                            \n",
      "                                                                                                  \n",
      " activation_47 (Activation)  (None, 32, 32)               0         ['batch_normalization_47[0][0]\n",
      "                                                                    ']                            \n",
      "                                                                                                  \n",
      " concatenate_11 (Concatenat  (None, 32, 128)              0         ['activation_44[0][0]',       \n",
      " e)                                                                  'activation_45[0][0]',       \n",
      "                                                                     'activation_46[0][0]',       \n",
      "                                                                     'activation_47[0][0]']       \n",
      "                                                                                                  \n",
      " global_average_pooling1d_2  (None, 128)                  0         ['concatenate_11[0][0]']      \n",
      "  (GlobalAveragePooling1D)                                                                        \n",
      "                                                                                                  \n",
      " dense_12 (Dense)            (None, 1024)                 132096    ['global_average_pooling1d_2[0\n",
      "                                                                    ][0]']                        \n",
      "                                                                                                  \n",
      " dense_13 (Dense)            (None, 5)                    5125      ['dense_12[0][0]']            \n",
      "                                                                                                  \n",
      "==================================================================================================\n",
      "Total params: 222661 (869.77 KB)\n",
      "Trainable params: 221893 (866.77 KB)\n",
      "Non-trainable params: 768 (3.00 KB)\n",
      "__________________________________________________________________________________________________\n"
     ]
    }
   ],
   "source": [
    "model.summary()"
   ]
  },
  {
   "cell_type": "code",
   "execution_count": 92,
   "metadata": {},
   "outputs": [
    {
     "name": "stdout",
     "output_type": "stream",
     "text": [
      "Epoch 1/30\n",
      "2737/2737 [==============================] - 103s 34ms/step - loss: 0.1808 - accuracy: 0.9495 - val_loss: 0.1183 - val_accuracy: 0.9686 - lr: 0.0010\n",
      "Epoch 2/30\n",
      "2737/2737 [==============================] - 59s 22ms/step - loss: 0.1191 - accuracy: 0.9671 - val_loss: 0.1169 - val_accuracy: 0.9667 - lr: 0.0010\n",
      "Epoch 3/30\n",
      "2737/2737 [==============================] - 54s 20ms/step - loss: 0.0988 - accuracy: 0.9727 - val_loss: 0.0875 - val_accuracy: 0.9761 - lr: 0.0010\n",
      "Epoch 4/30\n",
      "2737/2737 [==============================] - 74s 27ms/step - loss: 0.0867 - accuracy: 0.9759 - val_loss: 0.0970 - val_accuracy: 0.9725 - lr: 0.0010\n",
      "Epoch 5/30\n",
      "2737/2737 [==============================] - 57s 21ms/step - loss: 0.0788 - accuracy: 0.9773 - val_loss: 0.0900 - val_accuracy: 0.9762 - lr: 0.0010\n",
      "Epoch 6/30\n",
      "2737/2737 [==============================] - 89s 32ms/step - loss: 0.0733 - accuracy: 0.9784 - val_loss: 0.0909 - val_accuracy: 0.9758 - lr: 0.0010\n",
      "Epoch 7/30\n",
      "2737/2737 [==============================] - 92s 34ms/step - loss: 0.0571 - accuracy: 0.9833 - val_loss: 0.0654 - val_accuracy: 0.9814 - lr: 5.0000e-04\n",
      "Epoch 8/30\n",
      "2737/2737 [==============================] - 94s 34ms/step - loss: 0.0537 - accuracy: 0.9841 - val_loss: 0.0723 - val_accuracy: 0.9825 - lr: 5.0000e-04\n",
      "Epoch 9/30\n",
      "2737/2737 [==============================] - 95s 35ms/step - loss: 0.0507 - accuracy: 0.9851 - val_loss: 0.0613 - val_accuracy: 0.9837 - lr: 5.0000e-04\n",
      "Epoch 10/30\n",
      "2737/2737 [==============================] - 91s 33ms/step - loss: 0.0482 - accuracy: 0.9857 - val_loss: 0.0620 - val_accuracy: 0.9843 - lr: 5.0000e-04\n",
      "Epoch 11/30\n",
      "2737/2737 [==============================] - 92s 34ms/step - loss: 0.0459 - accuracy: 0.9861 - val_loss: 0.0625 - val_accuracy: 0.9830 - lr: 5.0000e-04\n",
      "Epoch 12/30\n",
      "2737/2737 [==============================] - 93s 34ms/step - loss: 0.0442 - accuracy: 0.9865 - val_loss: 0.0622 - val_accuracy: 0.9825 - lr: 5.0000e-04\n",
      "Epoch 13/30\n",
      "2737/2737 [==============================] - 92s 34ms/step - loss: 0.0367 - accuracy: 0.9888 - val_loss: 0.0552 - val_accuracy: 0.9860 - lr: 2.5000e-04\n",
      "Epoch 14/30\n",
      "2737/2737 [==============================] - 94s 34ms/step - loss: 0.0342 - accuracy: 0.9895 - val_loss: 0.0550 - val_accuracy: 0.9857 - lr: 2.5000e-04\n",
      "Epoch 15/30\n",
      "2737/2737 [==============================] - 94s 34ms/step - loss: 0.0332 - accuracy: 0.9898 - val_loss: 0.0535 - val_accuracy: 0.9857 - lr: 2.5000e-04\n",
      "Epoch 16/30\n",
      "2737/2737 [==============================] - 95s 35ms/step - loss: 0.0317 - accuracy: 0.9902 - val_loss: 0.0537 - val_accuracy: 0.9861 - lr: 2.5000e-04\n",
      "Epoch 17/30\n",
      "2737/2737 [==============================] - 94s 34ms/step - loss: 0.0310 - accuracy: 0.9902 - val_loss: 0.0595 - val_accuracy: 0.9841 - lr: 2.5000e-04\n",
      "Epoch 18/30\n",
      "2737/2737 [==============================] - 95s 35ms/step - loss: 0.0298 - accuracy: 0.9906 - val_loss: 0.0526 - val_accuracy: 0.9862 - lr: 2.5000e-04\n",
      "Epoch 19/30\n",
      "2737/2737 [==============================] - 97s 35ms/step - loss: 0.0292 - accuracy: 0.9906 - val_loss: 0.0563 - val_accuracy: 0.9854 - lr: 2.5000e-04\n",
      "Epoch 20/30\n",
      "2737/2737 [==============================] - 95s 35ms/step - loss: 0.0282 - accuracy: 0.9911 - val_loss: 0.0583 - val_accuracy: 0.9856 - lr: 2.5000e-04\n",
      "Epoch 21/30\n",
      "2737/2737 [==============================] - 96s 35ms/step - loss: 0.0278 - accuracy: 0.9909 - val_loss: 0.0534 - val_accuracy: 0.9861 - lr: 2.5000e-04\n",
      "Epoch 22/30\n",
      "2737/2737 [==============================] - 96s 35ms/step - loss: 0.0230 - accuracy: 0.9927 - val_loss: 0.0521 - val_accuracy: 0.9872 - lr: 1.2500e-04\n",
      "Epoch 23/30\n",
      "2737/2737 [==============================] - 96s 35ms/step - loss: 0.0223 - accuracy: 0.9929 - val_loss: 0.0528 - val_accuracy: 0.9865 - lr: 1.2500e-04\n",
      "Epoch 24/30\n",
      "2737/2737 [==============================] - 96s 35ms/step - loss: 0.0214 - accuracy: 0.9930 - val_loss: 0.0523 - val_accuracy: 0.9866 - lr: 1.2500e-04\n",
      "Epoch 25/30\n",
      "2737/2737 [==============================] - 97s 36ms/step - loss: 0.0210 - accuracy: 0.9933 - val_loss: 0.0523 - val_accuracy: 0.9877 - lr: 1.2500e-04\n",
      "Epoch 26/30\n",
      "2737/2737 [==============================] - 96s 35ms/step - loss: 0.0188 - accuracy: 0.9942 - val_loss: 0.0518 - val_accuracy: 0.9870 - lr: 6.2500e-05\n",
      "Epoch 27/30\n",
      "2737/2737 [==============================] - 97s 35ms/step - loss: 0.0187 - accuracy: 0.9940 - val_loss: 0.0525 - val_accuracy: 0.9870 - lr: 6.2500e-05\n",
      "Epoch 28/30\n",
      "2737/2737 [==============================] - 97s 36ms/step - loss: 0.0178 - accuracy: 0.9943 - val_loss: 0.0525 - val_accuracy: 0.9869 - lr: 6.2500e-05\n",
      "Epoch 29/30\n",
      "2737/2737 [==============================] - 98s 36ms/step - loss: 0.0169 - accuracy: 0.9948 - val_loss: 0.0529 - val_accuracy: 0.9869 - lr: 6.2500e-05\n",
      "Epoch 30/30\n",
      "2737/2737 [==============================] - 96s 35ms/step - loss: 0.0167 - accuracy: 0.9948 - val_loss: 0.0517 - val_accuracy: 0.9870 - lr: 3.1250e-05\n"
     ]
    }
   ],
   "source": [
    "# Construction des callbacks\n",
    "early_stopping = EarlyStopping(monitor='val_loss', patience=10, restore_best_weights=True)\n",
    "reduce_lr = ReduceLROnPlateau(monitor='val_loss', factor=0.5, patience=3, min_lr=0.00001)\n",
    "\n",
    "# Entraîner le modèle\n",
    "history = model.fit(X_train_lstm, y_train_lstm,\n",
    "                    validation_data=(X_test_lstm, y_test_lstm),\n",
    "                    callbacks=[early_stopping, reduce_lr],\n",
    "                    epochs=30)"
   ]
  },
  {
   "cell_type": "code",
   "execution_count": 93,
   "metadata": {},
   "outputs": [
    {
     "name": "stdout",
     "output_type": "stream",
     "text": [
      "685/685 [==============================] - 6s 8ms/step\n"
     ]
    }
   ],
   "source": [
    "predictions = model.predict(X_test_lstm)\n",
    "y_pred = np.argmax(predictions, axis=1)"
   ]
  },
  {
   "cell_type": "code",
   "execution_count": 94,
   "metadata": {},
   "outputs": [
    {
     "name": "stdout",
     "output_type": "stream",
     "text": [
      "accuracy = 0.9870254465713372   precision = 0.9367843895796681   recall=0.9084609124969016   f1 = 0.9218974197605796   ARI = 0.9548924545386742\n",
      "AUC-ROC = 0.9942754968773372\n"
     ]
    },
    {
     "data": {
      "image/png": "[encoded data removed]",
      "text/plain": [
       "<Figure size 1200x600 with 2 Axes>"
      ]
     },
     "metadata": {},
     "output_type": "display_data"
    }
   ],
   "source": [
    "metrics_display(y_test, y_pred, predictions)"
   ]
  },
  {
   "cell_type": "code",
   "execution_count": 95,
   "metadata": {},
   "outputs": [
    {
     "name": "stderr",
     "output_type": "stream",
     "text": [
      "/home/chakir/Bureau/PROJETS/Projet7/env/lib/python3.10/site-packages/keras/src/engine/training.py:3103: UserWarning: You are saving your model as an HDF5 file via `model.save()`. This file format is considered legacy. We recommend using instead the native Keras format, e.g. `model.save('my_model.keras')`.\n",
      "  saving_api.save_model(\n"
     ]
    },
    {
     "name": "stdout",
     "output_type": "stream",
     "text": [
      "INFO:tensorflow:Assets written to: ../models/inception_time_tf/assets\n"
     ]
    },
    {
     "name": "stderr",
     "output_type": "stream",
     "text": [
      "INFO:tensorflow:Assets written to: ../models/inception_time_tf/assets\n"
     ]
    }
   ],
   "source": [
    "model.save('../models/inception_time.h5')\n",
    "model.save('../models/inception_time_tf')\n",
    "model.save('../models/inception_time.keras')"
   ]
  },
  {
   "cell_type": "markdown",
   "metadata": {},
   "source": [
    "### 4.4 InceptionTime avec LSTM"
   ]
  },
  {
   "cell_type": "code",
   "execution_count": 80,
   "metadata": {},
   "outputs": [],
   "source": [
    "def build_inception_lstm_model(input_shape, num_classes):\n",
    "    input_layer = Input(shape=input_shape)\n",
    "    \n",
    "    # Empilement de modules Inception\n",
    "    x = inception_module(input_layer, filters=32)\n",
    "    x = inception_module(x, filters=32)\n",
    "    x = inception_module(x, filters=32)\n",
    "    \n",
    "    # Ajout de deux couches LSTM\n",
    "    x = LSTM(128, return_sequences=True)(x)\n",
    "    x = LSTM(64)(x)  \n",
    "    \n",
    "    # Ajout des couches de classification\n",
    "    x = Dense(1024, activation='relu')(x)\n",
    "    output_layer = Dense(num_classes, activation='softmax')(x)\n",
    "    \n",
    "    # Construction du modèle complet\n",
    "    model = Model(inputs=input_layer, outputs=output_layer)\n",
    "    \n",
    "    return model"
   ]
  },
  {
   "cell_type": "code",
   "execution_count": 81,
   "metadata": {},
   "outputs": [],
   "source": [
    "model = build_inception_lstm_model(input_shape, num_classes)"
   ]
  },
  {
   "cell_type": "code",
   "execution_count": 82,
   "metadata": {},
   "outputs": [],
   "source": [
    "# Compiler le modèle\n",
    "model.compile(optimizer=Nadam(learning_rate=0.001),\n",
    "              loss='categorical_crossentropy',\n",
    "              metrics=['accuracy'])"
   ]
  },
  {
   "cell_type": "code",
   "execution_count": 83,
   "metadata": {},
   "outputs": [
    {
     "name": "stdout",
     "output_type": "stream",
     "text": [
      "Model: \"model_1\"\n",
      "__________________________________________________________________________________________________\n",
      " Layer (type)                Output Shape                 Param #   Connected to                  \n",
      "==================================================================================================\n",
      " input_4 (InputLayer)        [(None, 32, 5)]              0         []                            \n",
      "                                                                                                  \n",
      " max_pooling1d_6 (MaxPoolin  (None, 32, 5)                0         ['input_4[0][0]']             \n",
      " g1D)                                                                                             \n",
      "                                                                                                  \n",
      " conv1d_24 (Conv1D)          (None, 32, 32)               192       ['input_4[0][0]']             \n",
      "                                                                                                  \n",
      " conv1d_25 (Conv1D)          (None, 32, 32)               512       ['input_4[0][0]']             \n",
      "                                                                                                  \n",
      " conv1d_26 (Conv1D)          (None, 32, 32)               832       ['input_4[0][0]']             \n",
      "                                                                                                  \n",
      " conv1d_27 (Conv1D)          (None, 32, 32)               192       ['max_pooling1d_6[0][0]']     \n",
      "                                                                                                  \n",
      " batch_normalization_24 (Ba  (None, 32, 32)               128       ['conv1d_24[0][0]']           \n",
      " tchNormalization)                                                                                \n",
      "                                                                                                  \n",
      " batch_normalization_25 (Ba  (None, 32, 32)               128       ['conv1d_25[0][0]']           \n",
      " tchNormalization)                                                                                \n",
      "                                                                                                  \n",
      " batch_normalization_26 (Ba  (None, 32, 32)               128       ['conv1d_26[0][0]']           \n",
      " tchNormalization)                                                                                \n",
      "                                                                                                  \n",
      " batch_normalization_27 (Ba  (None, 32, 32)               128       ['conv1d_27[0][0]']           \n",
      " tchNormalization)                                                                                \n",
      "                                                                                                  \n",
      " activation_24 (Activation)  (None, 32, 32)               0         ['batch_normalization_24[0][0]\n",
      "                                                                    ']                            \n",
      "                                                                                                  \n",
      " activation_25 (Activation)  (None, 32, 32)               0         ['batch_normalization_25[0][0]\n",
      "                                                                    ']                            \n",
      "                                                                                                  \n",
      " activation_26 (Activation)  (None, 32, 32)               0         ['batch_normalization_26[0][0]\n",
      "                                                                    ']                            \n",
      "                                                                                                  \n",
      " activation_27 (Activation)  (None, 32, 32)               0         ['batch_normalization_27[0][0]\n",
      "                                                                    ']                            \n",
      "                                                                                                  \n",
      " concatenate_6 (Concatenate  (None, 32, 128)              0         ['activation_24[0][0]',       \n",
      " )                                                                   'activation_25[0][0]',       \n",
      "                                                                     'activation_26[0][0]',       \n",
      "                                                                     'activation_27[0][0]']       \n",
      "                                                                                                  \n",
      " max_pooling1d_7 (MaxPoolin  (None, 32, 128)              0         ['concatenate_6[0][0]']       \n",
      " g1D)                                                                                             \n",
      "                                                                                                  \n",
      " conv1d_28 (Conv1D)          (None, 32, 32)               4128      ['concatenate_6[0][0]']       \n",
      "                                                                                                  \n",
      " conv1d_29 (Conv1D)          (None, 32, 32)               12320     ['concatenate_6[0][0]']       \n",
      "                                                                                                  \n",
      " conv1d_30 (Conv1D)          (None, 32, 32)               20512     ['concatenate_6[0][0]']       \n",
      "                                                                                                  \n",
      " conv1d_31 (Conv1D)          (None, 32, 32)               4128      ['max_pooling1d_7[0][0]']     \n",
      "                                                                                                  \n",
      " batch_normalization_28 (Ba  (None, 32, 32)               128       ['conv1d_28[0][0]']           \n",
      " tchNormalization)                                                                                \n",
      "                                                                                                  \n",
      " batch_normalization_29 (Ba  (None, 32, 32)               128       ['conv1d_29[0][0]']           \n",
      " tchNormalization)                                                                                \n",
      "                                                                                                  \n",
      " batch_normalization_30 (Ba  (None, 32, 32)               128       ['conv1d_30[0][0]']           \n",
      " tchNormalization)                                                                                \n",
      "                                                                                                  \n",
      " batch_normalization_31 (Ba  (None, 32, 32)               128       ['conv1d_31[0][0]']           \n",
      " tchNormalization)                                                                                \n",
      "                                                                                                  \n",
      " activation_28 (Activation)  (None, 32, 32)               0         ['batch_normalization_28[0][0]\n",
      "                                                                    ']                            \n",
      "                                                                                                  \n",
      " activation_29 (Activation)  (None, 32, 32)               0         ['batch_normalization_29[0][0]\n",
      "                                                                    ']                            \n",
      "                                                                                                  \n",
      " activation_30 (Activation)  (None, 32, 32)               0         ['batch_normalization_30[0][0]\n",
      "                                                                    ']                            \n",
      "                                                                                                  \n",
      " activation_31 (Activation)  (None, 32, 32)               0         ['batch_normalization_31[0][0]\n",
      "                                                                    ']                            \n",
      "                                                                                                  \n",
      " concatenate_7 (Concatenate  (None, 32, 128)              0         ['activation_28[0][0]',       \n",
      " )                                                                   'activation_29[0][0]',       \n",
      "                                                                     'activation_30[0][0]',       \n",
      "                                                                     'activation_31[0][0]']       \n",
      "                                                                                                  \n",
      " max_pooling1d_8 (MaxPoolin  (None, 32, 128)              0         ['concatenate_7[0][0]']       \n",
      " g1D)                                                                                             \n",
      "                                                                                                  \n",
      " conv1d_32 (Conv1D)          (None, 32, 32)               4128      ['concatenate_7[0][0]']       \n",
      "                                                                                                  \n",
      " conv1d_33 (Conv1D)          (None, 32, 32)               12320     ['concatenate_7[0][0]']       \n",
      "                                                                                                  \n",
      " conv1d_34 (Conv1D)          (None, 32, 32)               20512     ['concatenate_7[0][0]']       \n",
      "                                                                                                  \n",
      " conv1d_35 (Conv1D)          (None, 32, 32)               4128      ['max_pooling1d_8[0][0]']     \n",
      "                                                                                                  \n",
      " batch_normalization_32 (Ba  (None, 32, 32)               128       ['conv1d_32[0][0]']           \n",
      " tchNormalization)                                                                                \n",
      "                                                                                                  \n",
      " batch_normalization_33 (Ba  (None, 32, 32)               128       ['conv1d_33[0][0]']           \n",
      " tchNormalization)                                                                                \n",
      "                                                                                                  \n",
      " batch_normalization_34 (Ba  (None, 32, 32)               128       ['conv1d_34[0][0]']           \n",
      " tchNormalization)                                                                                \n",
      "                                                                                                  \n",
      " batch_normalization_35 (Ba  (None, 32, 32)               128       ['conv1d_35[0][0]']           \n",
      " tchNormalization)                                                                                \n",
      "                                                                                                  \n",
      " activation_32 (Activation)  (None, 32, 32)               0         ['batch_normalization_32[0][0]\n",
      "                                                                    ']                            \n",
      "                                                                                                  \n",
      " activation_33 (Activation)  (None, 32, 32)               0         ['batch_normalization_33[0][0]\n",
      "                                                                    ']                            \n",
      "                                                                                                  \n",
      " activation_34 (Activation)  (None, 32, 32)               0         ['batch_normalization_34[0][0]\n",
      "                                                                    ']                            \n",
      "                                                                                                  \n",
      " activation_35 (Activation)  (None, 32, 32)               0         ['batch_normalization_35[0][0]\n",
      "                                                                    ']                            \n",
      "                                                                                                  \n",
      " concatenate_8 (Concatenate  (None, 32, 128)              0         ['activation_32[0][0]',       \n",
      " )                                                                   'activation_33[0][0]',       \n",
      "                                                                     'activation_34[0][0]',       \n",
      "                                                                     'activation_35[0][0]']       \n",
      "                                                                                                  \n",
      " lstm_3 (LSTM)               (None, 32, 128)              131584    ['concatenate_8[0][0]']       \n",
      "                                                                                                  \n",
      " lstm_4 (LSTM)               (None, 64)                   49408     ['lstm_3[0][0]']              \n",
      "                                                                                                  \n",
      " dense_10 (Dense)            (None, 1024)                 66560     ['lstm_4[0][0]']              \n",
      "                                                                                                  \n",
      " dense_11 (Dense)            (None, 5)                    5125      ['dense_10[0][0]']            \n",
      "                                                                                                  \n",
      "==================================================================================================\n",
      "Total params: 338117 (1.29 MB)\n",
      "Trainable params: 337349 (1.29 MB)\n",
      "Non-trainable params: 768 (3.00 KB)\n",
      "__________________________________________________________________________________________________\n"
     ]
    }
   ],
   "source": [
    "model.summary()"
   ]
  },
  {
   "cell_type": "code",
   "execution_count": 84,
   "metadata": {},
   "outputs": [
    {
     "name": "stdout",
     "output_type": "stream",
     "text": [
      "Epoch 1/30\n",
      "2737/2737 [==============================] - 243s 83ms/step - loss: 0.2002 - accuracy: 0.9449 - val_loss: 0.1540 - val_accuracy: 0.9588 - lr: 0.0010\n",
      "Epoch 2/30\n",
      "2737/2737 [==============================] - 229s 84ms/step - loss: 0.1284 - accuracy: 0.9646 - val_loss: 0.1131 - val_accuracy: 0.9688 - lr: 0.0010\n",
      "Epoch 3/30\n",
      "2737/2737 [==============================] - 224s 82ms/step - loss: 0.1066 - accuracy: 0.9702 - val_loss: 0.0913 - val_accuracy: 0.9756 - lr: 0.0010\n",
      "Epoch 4/30\n",
      "2737/2737 [==============================] - 224s 82ms/step - loss: 0.0940 - accuracy: 0.9727 - val_loss: 0.0959 - val_accuracy: 0.9720 - lr: 0.0010\n",
      "Epoch 5/30\n",
      "2737/2737 [==============================] - 225s 82ms/step - loss: 0.0859 - accuracy: 0.9749 - val_loss: 0.0827 - val_accuracy: 0.9764 - lr: 0.0010\n",
      "Epoch 6/30\n",
      "2737/2737 [==============================] - 223s 81ms/step - loss: 0.0781 - accuracy: 0.9770 - val_loss: 0.0826 - val_accuracy: 0.9776 - lr: 0.0010\n",
      "Epoch 7/30\n",
      "2737/2737 [==============================] - 223s 82ms/step - loss: 0.0718 - accuracy: 0.9788 - val_loss: 0.0737 - val_accuracy: 0.9793 - lr: 0.0010\n",
      "Epoch 8/30\n",
      "2737/2737 [==============================] - 226s 83ms/step - loss: 0.0677 - accuracy: 0.9796 - val_loss: 0.0718 - val_accuracy: 0.9795 - lr: 0.0010\n",
      "Epoch 9/30\n",
      "2737/2737 [==============================] - 225s 82ms/step - loss: 0.0631 - accuracy: 0.9807 - val_loss: 0.0724 - val_accuracy: 0.9801 - lr: 0.0010\n",
      "Epoch 10/30\n",
      "2737/2737 [==============================] - 225s 82ms/step - loss: 0.0597 - accuracy: 0.9819 - val_loss: 0.0865 - val_accuracy: 0.9775 - lr: 0.0010\n",
      "Epoch 11/30\n",
      "2737/2737 [==============================] - 226s 83ms/step - loss: 0.0554 - accuracy: 0.9831 - val_loss: 0.0846 - val_accuracy: 0.9745 - lr: 0.0010\n",
      "Epoch 12/30\n",
      "2737/2737 [==============================] - 223s 82ms/step - loss: 0.0427 - accuracy: 0.9866 - val_loss: 0.0551 - val_accuracy: 0.9841 - lr: 5.0000e-04\n",
      "Epoch 13/30\n",
      "2737/2737 [==============================] - 231s 84ms/step - loss: 0.0363 - accuracy: 0.9883 - val_loss: 0.0614 - val_accuracy: 0.9840 - lr: 5.0000e-04\n",
      "Epoch 14/30\n",
      "2737/2737 [==============================] - 223s 81ms/step - loss: 0.0331 - accuracy: 0.9889 - val_loss: 0.0584 - val_accuracy: 0.9842 - lr: 5.0000e-04\n",
      "Epoch 15/30\n",
      "2737/2737 [==============================] - 225s 82ms/step - loss: 0.0308 - accuracy: 0.9897 - val_loss: 0.0601 - val_accuracy: 0.9852 - lr: 5.0000e-04\n",
      "Epoch 16/30\n",
      "2737/2737 [==============================] - 226s 83ms/step - loss: 0.0228 - accuracy: 0.9920 - val_loss: 0.0621 - val_accuracy: 0.9845 - lr: 2.5000e-04\n",
      "Epoch 17/30\n",
      "2737/2737 [==============================] - 225s 82ms/step - loss: 0.0195 - accuracy: 0.9931 - val_loss: 0.0616 - val_accuracy: 0.9859 - lr: 2.5000e-04\n",
      "Epoch 18/30\n",
      "2737/2737 [==============================] - 222s 81ms/step - loss: 0.0177 - accuracy: 0.9936 - val_loss: 0.0676 - val_accuracy: 0.9850 - lr: 2.5000e-04\n",
      "Epoch 19/30\n",
      "2737/2737 [==============================] - 227s 83ms/step - loss: 0.0140 - accuracy: 0.9950 - val_loss: 0.0730 - val_accuracy: 0.9849 - lr: 1.2500e-04\n",
      "Epoch 20/30\n",
      "2737/2737 [==============================] - 239s 87ms/step - loss: 0.0123 - accuracy: 0.9958 - val_loss: 0.0769 - val_accuracy: 0.9854 - lr: 1.2500e-04\n",
      "Epoch 21/30\n",
      "2737/2737 [==============================] - 234s 86ms/step - loss: 0.0119 - accuracy: 0.9958 - val_loss: 0.0802 - val_accuracy: 0.9851 - lr: 1.2500e-04\n",
      "Epoch 22/30\n",
      "2737/2737 [==============================] - 231s 85ms/step - loss: 0.0104 - accuracy: 0.9964 - val_loss: 0.0784 - val_accuracy: 0.9855 - lr: 6.2500e-05\n"
     ]
    }
   ],
   "source": [
    "# Construction des callbacks\n",
    "early_stopping = EarlyStopping(monitor='val_loss', patience=10, restore_best_weights=True)\n",
    "reduce_lr = ReduceLROnPlateau(monitor='val_loss', factor=0.5, patience=3, min_lr=0.00001)\n",
    "\n",
    "# Entraîner le modèle\n",
    "history = model.fit(X_train_lstm, y_train_lstm,\n",
    "                    validation_data=(X_test_lstm, y_test_lstm),\n",
    "                    callbacks=[early_stopping, reduce_lr],\n",
    "                    epochs=30)"
   ]
  },
  {
   "cell_type": "code",
   "execution_count": 85,
   "metadata": {},
   "outputs": [
    {
     "name": "stdout",
     "output_type": "stream",
     "text": [
      "685/685 [==============================] - 17s 23ms/step\n"
     ]
    }
   ],
   "source": [
    "predictions = model.predict(X_test_lstm)\n",
    "y_pred = np.argmax(predictions, axis=1)"
   ]
  },
  {
   "cell_type": "code",
   "execution_count": 86,
   "metadata": {},
   "outputs": [
    {
     "name": "stdout",
     "output_type": "stream",
     "text": [
      "accuracy = 0.9840559184978757   precision = 0.9441437651743643   recall=0.8742878597656139   f1 = 0.9047522637086016   ARI = 0.9444014138785145\n",
      "AUC-ROC = 0.9944581656688174\n"
     ]
    },
    {
     "data": {
      "image/png": "[encoded data removed]",
      "text/plain": [
       "<Figure size 1200x600 with 2 Axes>"
      ]
     },
     "metadata": {},
     "output_type": "display_data"
    }
   ],
   "source": [
    "metrics_display(y_test, y_pred, predictions)"
   ]
  },
  {
   "cell_type": "code",
   "execution_count": 87,
   "metadata": {},
   "outputs": [
    {
     "name": "stderr",
     "output_type": "stream",
     "text": [
      "/home/chakir/Bureau/PROJETS/Projet7/env/lib/python3.10/site-packages/keras/src/engine/training.py:3103: UserWarning: You are saving your model as an HDF5 file via `model.save()`. This file format is considered legacy. We recommend using instead the native Keras format, e.g. `model.save('my_model.keras')`.\n",
      "  saving_api.save_model(\n"
     ]
    },
    {
     "name": "stdout",
     "output_type": "stream",
     "text": [
      "INFO:tensorflow:Assets written to: ../models/inception_time_lstm_tf/assets\n"
     ]
    },
    {
     "name": "stderr",
     "output_type": "stream",
     "text": [
      "INFO:tensorflow:Assets written to: ../models/inception_time_lstm_tf/assets\n"
     ]
    }
   ],
   "source": [
    "model.save('../models/inception_time_lstm.h5')\n",
    "model.save('../models/inception_time_lstm_tf')\n",
    "model.save('../models/inception_time_lstm.keras')"
   ]
  }
 ],
 "metadata": {
  "kernelspec": {
   "display_name": "Python 3",
   "language": "python",
   "name": "python3"
  },
  "language_info": {
   "codemirror_mode": {
    "name": "ipython",
    "version": 3
   },
   "file_extension": ".py",
   "mimetype": "text/x-python",
   "name": "python",
   "nbconvert_exporter": "python",
   "pygments_lexer": "ipython3",
   "version": "3.10.12"
  }
 },
 "nbformat": 4,
 "nbformat_minor": 2
}
